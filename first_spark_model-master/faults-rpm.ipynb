{
 "cells": [
  {
   "cell_type": "code",
   "execution_count": 1,
   "id": "22f28229",
   "metadata": {},
   "outputs": [],
   "source": [
    "#current rpm\n",
    "radial = 1784\n",
    "axial = 1784\n",
    "#machine default rpm\n",
    "rpm =1784\n",
    "fault = []"
   ]
  },
  {
   "cell_type": "code",
   "execution_count": 2,
   "id": "33281e9f",
   "metadata": {},
   "outputs": [
    {
     "name": "stderr",
     "output_type": "stream",
     "text": [
      "/home/lenovo/.local/lib/python3.6/site-packages/pyspark/context.py:238: FutureWarning: Python 3.6 support is deprecated in Spark 3.2.\n",
      "  FutureWarning\n"
     ]
    }
   ],
   "source": [
    "from pyspark.sql import SparkSession\n",
    "\n",
    "spark = SparkSession \\\n",
    "    .builder \\\n",
    "    .appName('Vibration Fault') \\\n",
    "    .getOrCreate()\n"
   ]
  },
  {
   "cell_type": "code",
   "execution_count": 3,
   "id": "c56255cd",
   "metadata": {},
   "outputs": [
    {
     "data": {
      "text/html": [
       "\n",
       "            <div>\n",
       "                <p><b>SparkSession - in-memory</b></p>\n",
       "                \n",
       "        <div>\n",
       "            <p><b>SparkContext</b></p>\n",
       "\n",
       "            <p><a href=\"http://10.57.40.205:4041\">Spark UI</a></p>\n",
       "\n",
       "            <dl>\n",
       "              <dt>Version</dt>\n",
       "                <dd><code>v3.2.1</code></dd>\n",
       "              <dt>Master</dt>\n",
       "                <dd><code>local[*]</code></dd>\n",
       "              <dt>AppName</dt>\n",
       "                <dd><code>Vibration Fault</code></dd>\n",
       "            </dl>\n",
       "        </div>\n",
       "        \n",
       "            </div>\n",
       "        "
      ],
      "text/plain": [
       "<pyspark.sql.session.SparkSession at 0x7f117ed416a0>"
      ]
     },
     "execution_count": 3,
     "metadata": {},
     "output_type": "execute_result"
    }
   ],
   "source": [
    "spark"
   ]
  },
  {
   "cell_type": "code",
   "execution_count": 4,
   "id": "002785a3",
   "metadata": {},
   "outputs": [],
   "source": [
    "q_r = radial/rpm\n",
    "r_r = radial%rpm\n",
    "\n",
    "q_a = axial/rpm\n",
    "r_a = axial%rpm"
   ]
  },
  {
   "cell_type": "code",
   "execution_count": 5,
   "id": "835e6ef4",
   "metadata": {},
   "outputs": [
    {
     "name": "stdout",
     "output_type": "stream",
     "text": [
      "unbalance OR ecentricity OR loose type A OR gear tooth\n",
      "gear tooth OR overhang unbalance OR belt drive misalignment\n"
     ]
    }
   ],
   "source": [
    "\n",
    "#dtype=type(q)\n",
    "#print(dtype)\n",
    "#direction = 'radial'\n",
    "\n",
    "if(q_r == 1 and r_r == 0):\n",
    "    print(\"unbalance OR ecentricity OR loose type A OR gear tooth\")\n",
    "    \n",
    "    \n",
    "if (q_a == 1 and r_a == 0 ):\n",
    "    print(\"gear tooth OR overhang unbalance OR belt drive misalignment\")\n",
    "    \n",
    "if(q_r > 1 and r_r == 0 and (q_r).is_integer()==True):\n",
    "    print(\"misalignment offset\")\n",
    "    \n",
    "if(q_a > 1 and r_a == 0 and (q_a).is_integer()==True):\n",
    "    print(\"cocked bearing inner/outer OR bent rotors OR misalignment angular\")\n",
    "    \n",
    "if((q_a > 1 and r_a == 0 and (q_a).is_integer()==True) or (q_r > 1 and r_r == 0 and (q_r).is_integer()==True) ):\n",
    "    print(\"Gear mesh OR rotor bar OR Blade Pass\")\n",
    "    \n",
    "if(q_r < 1 and (q_r).is_integer()==False):\n",
    "    print(\"Loose type B OR Rub Event OR Oil Whirl/Whip OR Belt Drive Frequency\")\n",
    "    \n",
    "if(q_a < 1 and (q_a).is_integer()==False):\n",
    "    print(\"Rolling Element Bearing Cage Frequency\")\n",
    "    \n",
    "if((q_a < 1 and (q_a).is_integer()==False) or (q_r < 1 and (q_r).is_integer()==False) ):\n",
    "    print(\"Loose Type C OR Gear Tooth hunting or assembly OR Flow turbulance/cavitation OR electrical pole\")\n",
    "    \n",
    "if(q_r > 1 and (q_r).is_integer()==False):\n",
    "    print(\"Oil Whirl/Whip OR Belt Drive Frequency OR Rolling Element Bearing outer race/ inner race\")\n",
    "    "
   ]
  },
  {
   "cell_type": "code",
   "execution_count": 6,
   "id": "df5391fb",
   "metadata": {},
   "outputs": [
    {
     "data": {
      "text/plain": [
       "True"
      ]
     },
     "execution_count": 6,
     "metadata": {},
     "output_type": "execute_result"
    }
   ],
   "source": [
    "(q_r).is_integer()"
   ]
  },
  {
   "cell_type": "code",
   "execution_count": 7,
   "id": "6ac25663",
   "metadata": {},
   "outputs": [],
   "source": [
    "def fault_detect(q_r , r_r , q_a ,r_a):\n",
    "    if(q_r == 1 and r_r == 0):\n",
    "        #fault.extend([0,1,2,3])\n",
    "        Dict['unbalance'] = +1\n",
    "        Dict['ecentricity'] = +1\n",
    "        Dict['loose type A'] = +1\n",
    "        Dict['gear tooth'] = +1\n",
    "        #print(\"unbalance OR ecentricity OR loose type A OR gear tooth\")\n",
    "   \n",
    "    if (q_a == 1 and r_a == 0 ):\n",
    "        #fault.extend([3,4,5])\n",
    "        Dict['gear tooth'] = +1\n",
    "        Dict['overhang unbalance'] = +1\n",
    "        Dict['belt drive misalignment'] = +1\n",
    "        #print(\"gear tooth OR overhang unbalance OR belt drive misalignment\")\n",
    "    \n",
    "    if(q_r > 1 and r_r == 0 and (q_r).is_integer()==True):\n",
    "        #fault.append(6)\n",
    "        Dict['misalignment offset'] = +1\n",
    "        #print(\"misalignment offset\")\n",
    "    \n",
    "    if(q_a > 1 and r_a == 0 and (q_a).is_integer()==True):\n",
    "        #fault.extend([7,8,9,10])\n",
    "        Dict['cocked bearing inner'] = +1\n",
    "        Dict['cocked bearing outer'] = +1\n",
    "        Dict['bent rotors'] = +1\n",
    "        Dict['misalignment angular'] = +1\n",
    "        #print(\"cocked bearing inner/outer OR bent rotors OR misalignment angular\")\n",
    "    \n",
    "    if((q_a > 1 and r_a == 0 and (q_a).is_integer()==True) or (q_r > 1 and r_r == 0 and (q_r).is_integer()==True) ):\n",
    "        #fault.extend([11,12,13])\n",
    "        Dict['Gear mesh'] = +1\n",
    "        Dict['rotor bar'] = +1\n",
    "        Dict['Blade Pass'] = +1\n",
    "        #print(\"Gear mesh OR rotor bar OR Blade Pass\")\n",
    "    \n",
    "    if(q_r < 1 and (q_r).is_integer()==False):\n",
    "        #fault.extend([14,15,16,17])\n",
    "        Dict['Loose type B'] = +1\n",
    "        Dict['Rub Event'] = +1\n",
    "        Dict['Oil Whirl/Whip'] = +1\n",
    "        Dict['Belt Drive Frequency'] = +1\n",
    "        #print(\"Loose type B OR Rub Event OR Oil Whirl/Whip OR Belt Drive Frequency\")\n",
    "    \n",
    "    if(q_a < 1 and (q_a).is_integer()==False):\n",
    "        #fault.extend([18])\n",
    "        Dict['Rolling Element Bearing Cage Frequency'] = +1\n",
    "        #print(\"Rolling Element Bearing Cage Frequency\")\n",
    "    \n",
    "    if((q_a < 1 and (q_a).is_integer()==False) or (q_r < 1 and (q_r).is_integer()==False) ):\n",
    "        #fault.extend([19,20,21,22,23])\n",
    "        Dict['Loose Type C'] = +1\n",
    "        Dict['Gear Tooth hunting'] = +1\n",
    "        Dict['assembly'] = +1\n",
    "        Dict['Flow turbulance/cavitation'] = +1\n",
    "        Dict['electrical pole'] = +1\n",
    "        #print(\"Loose Type C OR Gear Tooth hunting or assembly OR Flow turbulance/cavitation OR electrical pole\")\n",
    "    \n",
    "    if(q_r > 1 and (q_r).is_integer()==False):\n",
    "        #fault.extend([16,17,24,25])\n",
    "        Dict['Oil Whirl/Whip'] = +1\n",
    "        Dict['Belt Drive Frequency'] = +1\n",
    "        Dict['Rolling Element Bearing outer race'] = +1\n",
    "        Dict['Rolling Element Bearing inner race'] = +1\n",
    "        #print(\"Oil Whirl/Whip OR Belt Drive Frequency OR Rolling Element Bearing outer race/ inner race\")\n",
    "    "
   ]
  },
  {
   "cell_type": "code",
   "execution_count": 8,
   "id": "bf93aa4a",
   "metadata": {},
   "outputs": [],
   "source": [
    "fault_detect(q_r , r_r , q_a ,r_a)"
   ]
  },
  {
   "cell_type": "code",
   "execution_count": 9,
   "id": "c720889b",
   "metadata": {},
   "outputs": [
    {
     "name": "stdout",
     "output_type": "stream",
     "text": [
      "Faults dictionary: \n",
      "{0: 'unbalance', 1: 'ecentricity', 2: 'loose type A', 3: 'gear tooth', 4: 'overhang unbalance', 5: 'belt drive misalignment', 6: 'misalignment offset', 7: 'cocked bearing inner', 8: 'cocked bearing outer', 9: 'bent rotors', 10: 'misalignment angular', 11: 'Gear mesh', 12: 'rotor bar', 13: 'Blade Pass', 14: 'Loose type B', 15: 'Rub Event', 16: 'Oil Whirl/Whip', 17: 'Belt Drive Frequency', 18: 'Rolling Element Bearing Cage Frequency', 19: 'Loose Type C', 20: 'Gear Tooth hunting', 21: 'assembly', 22: 'Flow turbulance/cavitation', 23: 'electrical pole', 24: 'Rolling Element Bearing outer race', 25: 'Rolling Element Bearing inner race'}\n"
     ]
    }
   ],
   "source": [
    "# Creating a Dictionary with all possible faults\n",
    "Dict = {}\n",
    "print(\"Faults dictionary: \")\n",
    "Dict[0] = 'unbalance'\n",
    "Dict[1] = 'ecentricity'\n",
    "Dict[2] = 'loose type A'\n",
    "Dict[3] = 'gear tooth'\n",
    "Dict[4] = 'overhang unbalance'\n",
    "Dict[5] = 'belt drive misalignment'\n",
    "Dict[6] = 'misalignment offset'\n",
    "Dict[7] = 'cocked bearing inner'\n",
    "Dict[8] = 'cocked bearing outer'\n",
    "Dict[9] = 'bent rotors'\n",
    "Dict[10] = 'misalignment angular'\n",
    "Dict[11] = 'Gear mesh'\n",
    "Dict[12] = 'rotor bar'\n",
    "Dict[13] = 'Blade Pass'\n",
    "Dict[14] = 'Loose type B'\n",
    "Dict[15] = 'Rub Event'\n",
    "Dict[16] = 'Oil Whirl/Whip'\n",
    "Dict[17] = 'Belt Drive Frequency'\n",
    "Dict[18] = 'Rolling Element Bearing Cage Frequency'\n",
    "Dict[19] = 'Loose Type C'\n",
    "Dict[20] = 'Gear Tooth hunting'\n",
    "Dict[21] = 'assembly'\n",
    "Dict[22] = 'Flow turbulance/cavitation'\n",
    "Dict[23] = 'electrical pole'\n",
    "Dict[24] = 'Rolling Element Bearing outer race'\n",
    "Dict[25] = 'Rolling Element Bearing inner race'\n",
    "print(Dict)"
   ]
  },
  {
   "cell_type": "code",
   "execution_count": 3,
   "id": "92f81457",
   "metadata": {},
   "outputs": [],
   "source": [
    "# Creating a Dictionary with all possible faults\n",
    "Dict = {}\n",
    "Dict['count'] = 0 \n",
    "Dict['unbalance'] = 0\n",
    "Dict['ecentricity'] = 0\n",
    "Dict['loose type A'] = 0\n",
    "Dict['gear tooth'] = 0\n",
    "Dict['overhang unbalance'] = 0\n",
    "Dict['belt drive misalignment'] = 0\n",
    "Dict['misalignment offset'] = 0\n",
    "Dict['cocked bearing inner'] = 0\n",
    "Dict['cocked bearing outer'] = 0\n",
    "Dict['bent rotors'] = 0\n",
    "Dict['misalignment angular'] = 0\n",
    "Dict['Gear mesh'] = 0\n",
    "Dict['rotor bar'] = 0\n",
    "Dict['Blade Pass'] = 0\n",
    "Dict['Loose type B'] = 0\n",
    "Dict['Rub Event'] = 0\n",
    "Dict['Oil Whirl/Whip'] = 0\n",
    "Dict['Belt Drive Frequency'] = 0\n",
    "Dict['Rolling Element Bearing Cage Frequency'] = 0\n",
    "Dict['Loose Type C'] = 0\n",
    "Dict['Gear Tooth hunting'] = 0\n",
    "Dict['assembly'] = 0\n",
    "Dict['Flow turbulance/cavitation'] = 0\n",
    "Dict['electrical pole'] = 0\n",
    "Dict['Rolling Element Bearing outer race'] = 0\n",
    "Dict['Rolling Element Bearing inner race'] = 0"
   ]
  },
  {
   "cell_type": "code",
   "execution_count": 5,
   "id": "56fb4ab0",
   "metadata": {},
   "outputs": [
    {
     "name": "stdout",
     "output_type": "stream",
     "text": [
      "Index::  0  ::  count - 0\n",
      "Index::  1  ::  unbalance - 0\n",
      "Index::  2  ::  ecentricity - 0\n",
      "Index::  3  ::  loose type A - 0\n",
      "Index::  4  ::  gear tooth - 0\n",
      "Index::  5  ::  overhang unbalance - 0\n",
      "Index::  6  ::  belt drive misalignment - 0\n",
      "Index::  7  ::  misalignment offset - 0\n",
      "Index::  8  ::  cocked bearing inner - 0\n",
      "Index::  9  ::  cocked bearing outer - 0\n",
      "Index::  10  ::  bent rotors - 0\n",
      "Index::  11  ::  misalignment angular - 0\n",
      "Index::  12  ::  Gear mesh - 0\n",
      "Index::  13  ::  rotor bar - 0\n",
      "Index::  14  ::  Blade Pass - 0\n",
      "Index::  15  ::  Loose type B - 0\n",
      "Index::  16  ::  Rub Event - 0\n",
      "Index::  17  ::  Oil Whirl/Whip - 0\n",
      "Index::  18  ::  Belt Drive Frequency - 0\n",
      "Index::  19  ::  Rolling Element Bearing Cage Frequency - 0\n",
      "Index::  20  ::  Loose Type C - 0\n",
      "Index::  21  ::  Gear Tooth hunting - 0\n",
      "Index::  22  ::  assembly - 0\n",
      "Index::  23  ::  Flow turbulance/cavitation - 0\n",
      "Index::  24  ::  electrical pole - 0\n",
      "Index::  25  ::  Rolling Element Bearing outer race - 0\n",
      "Index::  26  ::  Rolling Element Bearing inner race - 0\n"
     ]
    }
   ],
   "source": [
    "for index, (key, value) in enumerate(Dict.items()):\n",
    "    print('Index:: ', index, ' :: ', key, '-', value)"
   ]
  },
  {
   "cell_type": "code",
   "execution_count": null,
   "id": "85dddd4c",
   "metadata": {},
   "outputs": [],
   "source": []
  },
  {
   "cell_type": "code",
   "execution_count": null,
   "id": "70ba75dd",
   "metadata": {},
   "outputs": [],
   "source": []
  },
  {
   "cell_type": "code",
   "execution_count": null,
   "id": "bbae22de",
   "metadata": {},
   "outputs": [],
   "source": []
  }
 ],
 "metadata": {
  "kernelspec": {
   "display_name": "Python 3",
   "language": "python",
   "name": "python3"
  },
  "language_info": {
   "codemirror_mode": {
    "name": "ipython",
    "version": 3
   },
   "file_extension": ".py",
   "mimetype": "text/x-python",
   "name": "python",
   "nbconvert_exporter": "python",
   "pygments_lexer": "ipython3",
   "version": "3.6.9"
  }
 },
 "nbformat": 4,
 "nbformat_minor": 5
}
