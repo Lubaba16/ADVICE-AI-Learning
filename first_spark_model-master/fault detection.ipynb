{
 "cells": [
  {
   "cell_type": "code",
   "execution_count": 1,
   "id": "06606d3d",
   "metadata": {},
   "outputs": [
    {
     "name": "stderr",
     "output_type": "stream",
     "text": [
      "/home/lenovo/.local/lib/python3.6/site-packages/pyspark/context.py:238: FutureWarning: Python 3.6 support is deprecated in Spark 3.2.\n",
      "  FutureWarning\n"
     ]
    }
   ],
   "source": [
    "from pyspark.sql import SparkSession\n",
    "\n",
    "spark = SparkSession \\\n",
    "    .builder \\\n",
    "    .appName('Vibration Fault') \\\n",
    "    .getOrCreate()\n"
   ]
  },
  {
   "cell_type": "code",
   "execution_count": 2,
   "id": "4c56d7ac",
   "metadata": {},
   "outputs": [
    {
     "data": {
      "text/html": [
       "\n",
       "            <div>\n",
       "                <p><b>SparkSession - in-memory</b></p>\n",
       "                \n",
       "        <div>\n",
       "            <p><b>SparkContext</b></p>\n",
       "\n",
       "            <p><a href=\"http://10.57.40.209:4041\">Spark UI</a></p>\n",
       "\n",
       "            <dl>\n",
       "              <dt>Version</dt>\n",
       "                <dd><code>v3.2.1</code></dd>\n",
       "              <dt>Master</dt>\n",
       "                <dd><code>local[*]</code></dd>\n",
       "              <dt>AppName</dt>\n",
       "                <dd><code>Vibration Fault</code></dd>\n",
       "            </dl>\n",
       "        </div>\n",
       "        \n",
       "            </div>\n",
       "        "
      ],
      "text/plain": [
       "<pyspark.sql.session.SparkSession at 0x7f10d2e41470>"
      ]
     },
     "execution_count": 2,
     "metadata": {},
     "output_type": "execute_result"
    }
   ],
   "source": [
    "spark"
   ]
  },
  {
   "cell_type": "code",
   "execution_count": 3,
   "id": "dbfb1c81",
   "metadata": {},
   "outputs": [],
   "source": [
    "# Creating a Dictionary with all possible faults\n",
    "Dict = {}\n",
    "Dict['count'] = 1 \n",
    "Dict['unbalance'] = 0\n",
    "Dict['ecentricity'] = 0\n",
    "Dict['loose type A'] = 0\n",
    "Dict['gear tooth'] = 0\n",
    "Dict['overhang unbalance'] = 0\n",
    "Dict['belt drive misalignment'] = 0\n",
    "Dict['misalignment offset'] = 0\n",
    "Dict['cocked bearing inner'] = 0\n",
    "Dict['cocked bearing outer'] = 0\n",
    "Dict['bent rotors'] = 0\n",
    "Dict['misalignment angular'] = 0\n",
    "Dict['Gear mesh'] = 0\n",
    "Dict['rotor bar'] = 0\n",
    "Dict['Blade Pass'] = 0\n",
    "Dict['Loose type B'] = 0\n",
    "Dict['Rub Event'] = 0\n",
    "Dict['Oil Whirl/Whip'] = 0\n",
    "Dict['Belt Drive Frequency'] = 0\n",
    "Dict['Rolling Element Bearing Cage Frequency'] = 0\n",
    "Dict['Loose Type C'] = 0\n",
    "Dict['Gear Tooth hunting'] = 0\n",
    "Dict['assembly'] = 0\n",
    "Dict['Flow turbulance/cavitation'] = 0\n",
    "Dict['electrical pole'] = 0\n",
    "Dict['Rolling Element Bearing outer race'] = 0\n",
    "Dict['Rolling Element Bearing inner race'] = 0"
   ]
  },
  {
   "cell_type": "code",
   "execution_count": 4,
   "id": "7aa8ddb2",
   "metadata": {},
   "outputs": [],
   "source": [
    "def fault_detect(q_r , r_r , q_a ,r_a):\n",
    "    Dict['count'] = +1\n",
    "    if(q_r == 1 and r_r == 0):\n",
    "        #fault.extend([0,1,2,3])\n",
    "        Dict['unbalance'] = Dict['unbalance']+1\n",
    "        Dict['ecentricity'] = Dict['ecentricity']+1\n",
    "        Dict['loose type A'] = Dict['loose type A'] +1\n",
    "        Dict['gear tooth'] = Dict['gear tooth']+1\n",
    "        #print(\"unbalance OR ecentricity OR loose type A OR gear tooth\")\n",
    "   \n",
    "    if (q_a == 1 and r_a == 0 ):\n",
    "        #fault.extend([3,4,5])\n",
    "        Dict['gear tooth'] = Dict['gear tooth']+1\n",
    "        Dict['overhang unbalance'] = Dict['overhang unbalance']+1\n",
    "        Dict['belt drive misalignment'] = Dict['belt drive misalignment']+1\n",
    "        #print(\"gear tooth OR overhang unbalance OR belt drive misalignment\")\n",
    "    \n",
    "    if(q_r > 1 and r_r == 0 and (q_r).is_integer()==True):\n",
    "        #fault.append(6)\n",
    "        Dict['misalignment offset'] = Dict['misalignment offset']+1\n",
    "        #print(\"misalignment offset\")\n",
    "    \n",
    "    if(q_a > 1 and r_a == 0 and (q_a).is_integer()==True):\n",
    "        #fault.extend([7,8,9,10])\n",
    "        Dict['cocked bearing inner'] = Dict['cocked bearing inner']+1\n",
    "        Dict['cocked bearing outer'] = Dict['cocked bearing outer']+1\n",
    "        Dict['bent rotors'] = Dict['bent rotors']+1\n",
    "        Dict['misalignment angular'] = Dict['misalignment angular']+1\n",
    "        #print(\"cocked bearing inner/outer OR bent rotors OR misalignment angular\")\n",
    "    \n",
    "    if((q_a > 1 and r_a == 0 and (q_a).is_integer()==True) or (q_r > 1 and r_r == 0 and (q_r).is_integer()==True) ):\n",
    "        #fault.extend([11,12,13])\n",
    "        Dict['Gear mesh'] = Dict['Gear mesh']+1\n",
    "        Dict['rotor bar'] = Dict['rotor bar']+1\n",
    "        Dict['Blade Pass'] = Dict['Blade Pass']+1\n",
    "        #print(\"Gear mesh OR rotor bar OR Blade Pass\")\n",
    "    \n",
    "    if(q_r < 1 and (q_r).is_integer()==False):\n",
    "        #fault.extend([14,15,16,17])\n",
    "        Dict['Loose type B'] = Dict['Loose type B']+1\n",
    "        Dict['Rub Event'] = +1\n",
    "        Dict['Oil Whirl/Whip'] = +1\n",
    "        Dict['Belt Drive Frequency'] = +1\n",
    "        #print(\"Loose type B OR Rub Event OR Oil Whirl/Whip OR Belt Drive Frequency\")\n",
    "    \n",
    "    if(q_a < 1 and (q_a).is_integer()==False):\n",
    "        #fault.extend([18])\n",
    "        Dict['Rolling Element Bearing Cage Frequency'] = +1\n",
    "        #print(\"Rolling Element Bearing Cage Frequency\")\n",
    "    \n",
    "    if((q_a < 1 and (q_a).is_integer()==False) or (q_r < 1 and (q_r).is_integer()==False) ):\n",
    "        #fault.extend([19,20,21,22,23])\n",
    "        Dict['Loose Type C'] = +1\n",
    "        Dict['Gear Tooth hunting'] = +1\n",
    "        Dict['assembly'] = +1\n",
    "        Dict['Flow turbulance/cavitation'] = +1\n",
    "        Dict['electrical pole'] = +1\n",
    "        #print(\"Loose Type C OR Gear Tooth hunting or assembly OR Flow turbulance/cavitation OR electrical pole\")\n",
    "    \n",
    "    if(q_r > 1 and (q_r).is_integer()==False):\n",
    "        #fault.extend([16,17,24,25])\n",
    "        Dict['Oil Whirl/Whip'] = +1\n",
    "        Dict['Belt Drive Frequency'] = +1\n",
    "        Dict['Rolling Element Bearing outer race'] = +1\n",
    "        Dict['Rolling Element Bearing inner race'] = +1\n",
    "        #print(\"Oil Whirl/Whip OR Belt Drive Frequency OR Rolling Element Bearing outer race/ inner race\")\n",
    "    "
   ]
  },
  {
   "cell_type": "code",
   "execution_count": 5,
   "id": "50b1d9f8",
   "metadata": {},
   "outputs": [],
   "source": [
    "#current rpm\n",
    "radial = 1784\n",
    "axial = 1784\n",
    "\n",
    "#machine default rpm\n",
    "rpm = 1784\n",
    "\n",
    "i = 0"
   ]
  },
  {
   "cell_type": "code",
   "execution_count": 6,
   "id": "84c1b329",
   "metadata": {},
   "outputs": [],
   "source": [
    "q_r = radial/rpm\n",
    "r_r = radial%rpm\n",
    "\n",
    "q_a = axial/rpm\n",
    "r_a = axial%rpm"
   ]
  },
  {
   "cell_type": "code",
   "execution_count": 7,
   "id": "a6a3ef12",
   "metadata": {},
   "outputs": [],
   "source": [
    "while i < 10:\n",
    "    fault_detect(q_r , r_r , q_a ,r_a)\n",
    "    i += 1\n",
    "    if Dict['count'] == 11:\n",
    "        Dict['count'] = 1\n"
   ]
  },
  {
   "cell_type": "code",
   "execution_count": 8,
   "id": "81344349",
   "metadata": {},
   "outputs": [
    {
     "name": "stdout",
     "output_type": "stream",
     "text": [
      "Index::  0  ::  count - 1\n",
      "Index::  1  ::  unbalance - 10\n",
      "Index::  2  ::  ecentricity - 10\n",
      "Index::  3  ::  loose type A - 10\n",
      "Index::  4  ::  gear tooth - 20\n",
      "Index::  5  ::  overhang unbalance - 10\n",
      "Index::  6  ::  belt drive misalignment - 10\n",
      "Index::  7  ::  misalignment offset - 0\n",
      "Index::  8  ::  cocked bearing inner - 0\n",
      "Index::  9  ::  cocked bearing outer - 0\n",
      "Index::  10  ::  bent rotors - 0\n",
      "Index::  11  ::  misalignment angular - 0\n",
      "Index::  12  ::  Gear mesh - 0\n",
      "Index::  13  ::  rotor bar - 0\n",
      "Index::  14  ::  Blade Pass - 0\n",
      "Index::  15  ::  Loose type B - 0\n",
      "Index::  16  ::  Rub Event - 0\n",
      "Index::  17  ::  Oil Whirl/Whip - 0\n",
      "Index::  18  ::  Belt Drive Frequency - 0\n",
      "Index::  19  ::  Rolling Element Bearing Cage Frequency - 0\n",
      "Index::  20  ::  Loose Type C - 0\n",
      "Index::  21  ::  Gear Tooth hunting - 0\n",
      "Index::  22  ::  assembly - 0\n",
      "Index::  23  ::  Flow turbulance/cavitation - 0\n",
      "Index::  24  ::  electrical pole - 0\n",
      "Index::  25  ::  Rolling Element Bearing outer race - 0\n",
      "Index::  26  ::  Rolling Element Bearing inner race - 0\n"
     ]
    }
   ],
   "source": [
    "for index, (key, value) in enumerate(Dict.items()):\n",
    "    print('Index:: ', index, ' :: ', key, '-', value)"
   ]
  },
  {
   "cell_type": "code",
   "execution_count": 10,
   "id": "837eed2d",
   "metadata": {},
   "outputs": [
    {
     "name": "stdout",
     "output_type": "stream",
     "text": [
      "Fault Detected: gear tooth\n"
     ]
    }
   ],
   "source": [
    "fin_max = max(Dict, key=Dict.get)\n",
    "print(\"Fault Detected:\",fin_max)"
   ]
  },
  {
   "cell_type": "code",
   "execution_count": null,
   "id": "324f9c24",
   "metadata": {},
   "outputs": [],
   "source": []
  }
 ],
 "metadata": {
  "kernelspec": {
   "display_name": "Python 3",
   "language": "python",
   "name": "python3"
  },
  "language_info": {
   "codemirror_mode": {
    "name": "ipython",
    "version": 3
   },
   "file_extension": ".py",
   "mimetype": "text/x-python",
   "name": "python",
   "nbconvert_exporter": "python",
   "pygments_lexer": "ipython3",
   "version": "3.6.9"
  }
 },
 "nbformat": 4,
 "nbformat_minor": 5
}
