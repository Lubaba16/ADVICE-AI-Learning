{
 "cells": [
  {
   "cell_type": "markdown",
   "metadata": {},
   "source": [
    "# MAI Assignment Part 02 \"Conceptual and Programming based Questions\"\n",
    "## Submitted by: Lubaba         Roll #: CS-101/2021"
   ]
  },
  {
   "cell_type": "code",
   "execution_count": 2,
   "metadata": {},
   "outputs": [],
   "source": [
    "%matplotlib inline\n",
    "import numpy as np\n",
    "import matplotlib.pyplot as plt\n",
    "import seaborn as sns; sns.set()"
   ]
  },
  {
   "cell_type": "markdown",
   "metadata": {},
   "source": [
    "# Part 02 question 02\n"
   ]
  },
  {
   "cell_type": "markdown",
   "metadata": {},
   "source": [
    "<b>Defining array<b>"
   ]
  },
  {
   "cell_type": "code",
   "execution_count": 4,
   "metadata": {},
   "outputs": [
    {
     "data": {
      "text/plain": [
       "array([[1. , 0.9],\n",
       "       [0.9, 1. ]])"
      ]
     },
     "execution_count": 4,
     "metadata": {},
     "output_type": "execute_result"
    }
   ],
   "source": [
    "A=np.array([[1,0.9],[0.9,1]])\n",
    "A\n"
   ]
  },
  {
   "cell_type": "markdown",
   "metadata": {},
   "source": [
    "<b>a) Computing eigen values and eigen vectors<b>"
   ]
  },
  {
   "cell_type": "code",
   "execution_count": 7,
   "metadata": {},
   "outputs": [
    {
     "name": "stdout",
     "output_type": "stream",
     "text": [
      "[1.9 0.1]\n",
      "[[ 0.70710678 -0.70710678]\n",
      " [ 0.70710678  0.70710678]]\n"
     ]
    }
   ],
   "source": [
    "# finding eigenvalues and eigenvectors\n",
    "eig_val, eig_vec = np.linalg.eig(A)\n",
    "\n",
    "print(eig_val)\n",
    "print(eig_vec)"
   ]
  },
  {
   "cell_type": "markdown",
   "metadata": {},
   "source": [
    "<b>b) Proof: sum of eigen values = trace of matrix <b>"
   ]
  },
  {
   "cell_type": "code",
   "execution_count": 14,
   "metadata": {},
   "outputs": [
    {
     "name": "stdout",
     "output_type": "stream",
     "text": [
      "2.0\n",
      "2.0\n",
      "True\n"
     ]
    }
   ],
   "source": [
    "# Show that sum of eigen values = trace of matrix\n",
    "a = eig_val[0] + eig_val[1]\n",
    "a = round(a,1)\n",
    "print(a)\n",
    "b = A.trace()\n",
    "print(b)\n",
    "if a==b:\n",
    "    print(\"True\")\n",
    "else:\n",
    "    print(\"False\")"
   ]
  },
  {
   "cell_type": "markdown",
   "metadata": {},
   "source": [
    "<b> c) Proof: product of eigen values = determinant of matrix <b>"
   ]
  },
  {
   "cell_type": "code",
   "execution_count": 21,
   "metadata": {},
   "outputs": [
    {
     "name": "stdout",
     "output_type": "stream",
     "text": [
      "0.2\n",
      "0.2\n",
      "True\n"
     ]
    }
   ],
   "source": [
    "# Show that product of eigen values = determinant of matrix\n",
    "c = eig_val[0] * eig_val[1]\n",
    "c = round(c,1)\n",
    "print(c)\n",
    "d = np.linalg.det(A)\n",
    "d = round(d,1)\n",
    "print(d)\n",
    "if c==d:\n",
    "    print(\"True\")\n",
    "else:\n",
    "    print(\"False\")"
   ]
  },
  {
   "cell_type": "markdown",
   "metadata": {},
   "source": [
    "<b> d) Compute the weights of the principal components that sets the scales of the components\n",
    "and ensures that they are orthogonal. </b> <br>\n",
    "Principal Components Weights are actually Eigenvectors "
   ]
  },
  {
   "cell_type": "code",
   "execution_count": 32,
   "metadata": {},
   "outputs": [
    {
     "name": "stdout",
     "output_type": "stream",
     "text": [
      "C= [[ 0.005 -0.005]\n",
      " [-0.005  0.005]]\n",
      "eigen values= [-8.67361738e-19  1.00000000e-02]\n",
      "eigen vectors= [[-0.70710678  0.70710678]\n",
      " [-0.70710678 -0.70710678]]\n",
      "Transformed data= [[-9.01239160e-17  7.07106781e-02]\n",
      " [-6.47085399e-17 -7.07106781e-02]]\n"
     ]
    }
   ],
   "source": [
    "# obtaining weights of principal components\n",
    "An=(A-A.mean(axis=0))\n",
    "C=np.dot(An,An.T)\n",
    "print(\"C=\",C)\n",
    "eig_v,eig_vec=np.linalg.eig(C)\n",
    "print(\"eigen values=\",eig_v)\n",
    "print(\"eigen vectors=\",eig_vec)  \n",
    "Q=eig_vec\n",
    "Y=np.dot(An,Q)\n",
    "print(\"Transformed data=\", Y)"
   ]
  },
  {
   "cell_type": "markdown",
   "metadata": {},
   "source": [
    "<b> e) Compute the loadings of the varaibles. Importance of original feature in each principal\n",
    "component. </b> <br>\n",
    "\n",
    "Explained variance can be represented as a function of ratio of related eigenvalue and sum of eigenvalues of all eigenvectors. Let’s say that there are N eigenvectors, then the explained variance for each eigenvector (principal component) can be expressed the ratio of eigenvalue of related eigenvalue λi and sum of all eigenvalues (λ1+λ2+…+λn) as the following:<br>\n",
    "\n",
    "λi/(λ1+λ2+…+λn)"
   ]
  },
  {
   "cell_type": "code",
   "execution_count": 31,
   "metadata": {},
   "outputs": [
    {
     "name": "stdout",
     "output_type": "stream",
     "text": [
      "explained varience= [-8.67361737988404e-17, 1.0]\n"
     ]
    }
   ],
   "source": [
    "exp_var = []\n",
    "exp_var.append(eig_v[0]/(eig_v[0]+eig_v[1]))\n",
    "exp_var.append(eig_v[1]/(eig_v[0]+eig_v[1]))\n",
    "print(\"explained varience=\",exp_var)"
   ]
  },
  {
   "cell_type": "markdown",
   "metadata": {},
   "source": [
    "EIGEN VALUES REPESENT EXPLAINED VARIENCE <br> max eigen value is 1.0 i.e., thus by looking at the PC1 (First Principal Component) which is the first row: [-0.70710678  0.70710678] we can conclude that Feature 2 is more important than Feature 1."
   ]
  },
  {
   "cell_type": "markdown",
   "metadata": {},
   "source": [
    "<b> f) What proportion of the total variance in the data does the first principal component account\n",
    "for? </b> <br> 100%"
   ]
  },
  {
   "cell_type": "code",
   "execution_count": 35,
   "metadata": {},
   "outputs": [
    {
     "data": {
      "image/png": "[encoded data removed]",
      "text/plain": [
       "<Figure size 432x288 with 1 Axes>"
      ]
     },
     "metadata": {
      "needs_background": "light"
     },
     "output_type": "display_data"
    }
   ],
   "source": [
    "total_egnvalues = sum(eig_v)\n",
    "var_exp = [(i/total_egnvalues) for i in sorted(eig_v, reverse=True)]\n",
    "\n",
    "#Plot the importance of variables\n",
    "cum_sum_exp = np.cumsum(var_exp)\n",
    "plt.bar(range(0,len(var_exp)), var_exp, alpha=0.5, align='center', label='Individual explained variance')\n",
    "plt.ylabel('Explained variance ratio')\n",
    "plt.xlabel('Principal component index')\n",
    "plt.legend(loc='best')\n",
    "plt.tight_layout()\n",
    "plt.show()"
   ]
  },
  {
   "cell_type": "markdown",
   "metadata": {},
   "source": [
    "# Part 02 question 03\n",
    "\n",
    "Defining the dataset"
   ]
  },
  {
   "cell_type": "code",
   "execution_count": 38,
   "metadata": {},
   "outputs": [],
   "source": [
    "import pandas as pd\n",
    "from sklearn.feature_extraction.text import CountVectorizer, TfidfVectorizer"
   ]
  },
  {
   "cell_type": "code",
   "execution_count": 39,
   "metadata": {},
   "outputs": [],
   "source": [
    "sentence_1=\"Human machine interface for ABC computer applications\"\n",
    "sentence_2=\"A survey of user opinion of computer system response time\"\n",
    "sentence_3=\"The EPS user interface management system\"\n",
    "sentence_4=\"System and human system engineering testing of EPS\"\n",
    "sentence_5=\"Relation of user perceived response time to error measurement\"\n",
    "sentence_6=\"The generation of random, binary, ordered trees\"\n",
    "sentence_7=\"The intersection graph of paths in trees\"\n",
    "sentence_8=\"Graph minors IV: Widths of trees and well-quasi-ordering\"\n",
    "sentence_9=\"Graph minors: A survey\""
   ]
  },
  {
   "cell_type": "markdown",
   "metadata": {},
   "source": [
    "<b> a. Generate a data matrix (bag of words) wherein each column represents a unique\n",
    "word in the corpus and each row denotes one document in Python. </b>"
   ]
  },
  {
   "cell_type": "code",
   "execution_count": 118,
   "metadata": {},
   "outputs": [
    {
     "name": "stdout",
     "output_type": "stream",
     "text": [
      "[[1 1 0 1 0 0 0 0 0 1 1 0 0 1 0 0 0 0 0 0 0 0 0 0 0 0 0 0 0 0 0 0]\n",
      " [0 0 0 1 0 0 0 0 0 0 0 0 0 0 0 0 0 1 0 0 0 0 0 0 0 1 1 0 1 0 1 0]\n",
      " [0 0 0 0 0 1 0 0 0 0 1 0 0 0 1 0 0 0 0 0 0 0 0 0 0 0 0 0 0 0 1 0]\n",
      " [0 0 0 0 1 1 0 0 0 1 0 0 0 0 0 0 0 0 0 0 0 0 0 0 0 0 0 1 0 0 0 0]\n",
      " [0 0 0 0 0 0 1 0 0 0 0 0 0 0 0 1 0 0 0 0 0 1 0 0 1 1 0 0 1 0 1 0]\n",
      " [0 0 1 0 0 0 0 1 0 0 0 0 0 0 0 0 0 0 1 0 0 0 0 1 0 0 0 0 0 1 0 0]\n",
      " [0 0 0 0 0 0 0 0 1 0 0 1 0 0 0 0 0 0 0 0 1 0 0 0 0 0 0 0 0 1 0 0]\n",
      " [0 0 0 0 0 0 0 0 1 0 0 0 1 0 0 0 1 0 0 1 0 0 1 0 0 0 0 0 0 1 0 1]\n",
      " [0 0 0 0 0 0 0 0 1 0 0 0 0 0 0 0 1 0 0 0 0 0 0 0 0 0 1 0 0 0 0 0]]\n"
     ]
    }
   ],
   "source": [
    " \n",
    "CountVec = CountVectorizer(ngram_range=(1,1), # to use bigrams ngram_range=(2,2)\n",
    "                           stop_words='english')\n",
    "#transform\n",
    "Count_data = CountVec.fit_transform([sentence_1,sentence_2,sentence_3,sentence_4,sentence_5,sentence_6,sentence_7,sentence_8,sentence_9])\n",
    " \n",
    "#create dataframe\n",
    "A=np.array(Count_data.toarray())\n",
    "print(A)"
   ]
  },
  {
   "cell_type": "code",
   "execution_count": 41,
   "metadata": {},
   "outputs": [
    {
     "data": {
      "text/plain": [
       "(9, 32)"
      ]
     },
     "execution_count": 41,
     "metadata": {},
     "output_type": "execute_result"
    }
   ],
   "source": [
    "A.shape"
   ]
  },
  {
   "cell_type": "markdown",
   "metadata": {},
   "source": [
    "<b> b. By following all the necessary steps, find out the principal components by using\n",
    "np.linalg.eig( ). </b>"
   ]
  },
  {
   "cell_type": "code",
   "execution_count": 42,
   "metadata": {},
   "outputs": [],
   "source": [
    "An=(A-A.mean(axis=0)) #zero-centre data"
   ]
  },
  {
   "cell_type": "code",
   "execution_count": 43,
   "metadata": {},
   "outputs": [
    {
     "data": {
      "text/plain": [
       "(9, 32)"
      ]
     },
     "execution_count": 43,
     "metadata": {},
     "output_type": "execute_result"
    }
   ],
   "source": [
    "An.shape"
   ]
  },
  {
   "cell_type": "code",
   "execution_count": 44,
   "metadata": {},
   "outputs": [
    {
     "data": {
      "text/plain": [
       "array([[ 0.88888889,  0.88888889, -0.11111111,  0.77777778, -0.11111111,\n",
       "        -0.22222222, -0.11111111, -0.11111111, -0.33333333,  0.77777778,\n",
       "         0.77777778, -0.11111111, -0.11111111,  0.88888889, -0.11111111,\n",
       "        -0.11111111, -0.22222222, -0.11111111, -0.11111111, -0.11111111,\n",
       "        -0.11111111, -0.11111111, -0.11111111, -0.11111111, -0.11111111,\n",
       "        -0.22222222, -0.22222222, -0.11111111, -0.22222222, -0.33333333,\n",
       "        -0.33333333, -0.11111111],\n",
       "       [-0.11111111, -0.11111111, -0.11111111,  0.77777778, -0.11111111,\n",
       "        -0.22222222, -0.11111111, -0.11111111, -0.33333333, -0.22222222,\n",
       "        -0.22222222, -0.11111111, -0.11111111, -0.11111111, -0.11111111,\n",
       "        -0.11111111, -0.22222222,  0.88888889, -0.11111111, -0.11111111,\n",
       "        -0.11111111, -0.11111111, -0.11111111, -0.11111111, -0.11111111,\n",
       "         0.77777778,  0.77777778, -0.11111111,  0.77777778, -0.33333333,\n",
       "         0.66666667, -0.11111111],\n",
       "       [-0.11111111, -0.11111111, -0.11111111, -0.22222222, -0.11111111,\n",
       "         0.77777778, -0.11111111, -0.11111111, -0.33333333, -0.22222222,\n",
       "         0.77777778, -0.11111111, -0.11111111, -0.11111111,  0.88888889,\n",
       "        -0.11111111, -0.22222222, -0.11111111, -0.11111111, -0.11111111,\n",
       "        -0.11111111, -0.11111111, -0.11111111, -0.11111111, -0.11111111,\n",
       "        -0.22222222, -0.22222222, -0.11111111, -0.22222222, -0.33333333,\n",
       "         0.66666667, -0.11111111],\n",
       "       [-0.11111111, -0.11111111, -0.11111111, -0.22222222,  0.88888889,\n",
       "         0.77777778, -0.11111111, -0.11111111, -0.33333333,  0.77777778,\n",
       "        -0.22222222, -0.11111111, -0.11111111, -0.11111111, -0.11111111,\n",
       "        -0.11111111, -0.22222222, -0.11111111, -0.11111111, -0.11111111,\n",
       "        -0.11111111, -0.11111111, -0.11111111, -0.11111111, -0.11111111,\n",
       "        -0.22222222, -0.22222222,  0.88888889, -0.22222222, -0.33333333,\n",
       "        -0.33333333, -0.11111111],\n",
       "       [-0.11111111, -0.11111111, -0.11111111, -0.22222222, -0.11111111,\n",
       "        -0.22222222,  0.88888889, -0.11111111, -0.33333333, -0.22222222,\n",
       "        -0.22222222, -0.11111111, -0.11111111, -0.11111111, -0.11111111,\n",
       "         0.88888889, -0.22222222, -0.11111111, -0.11111111, -0.11111111,\n",
       "        -0.11111111,  0.88888889, -0.11111111, -0.11111111,  0.88888889,\n",
       "         0.77777778, -0.22222222, -0.11111111,  0.77777778, -0.33333333,\n",
       "         0.66666667, -0.11111111],\n",
       "       [-0.11111111, -0.11111111,  0.88888889, -0.22222222, -0.11111111,\n",
       "        -0.22222222, -0.11111111,  0.88888889, -0.33333333, -0.22222222,\n",
       "        -0.22222222, -0.11111111, -0.11111111, -0.11111111, -0.11111111,\n",
       "        -0.11111111, -0.22222222, -0.11111111,  0.88888889, -0.11111111,\n",
       "        -0.11111111, -0.11111111, -0.11111111,  0.88888889, -0.11111111,\n",
       "        -0.22222222, -0.22222222, -0.11111111, -0.22222222,  0.66666667,\n",
       "        -0.33333333, -0.11111111],\n",
       "       [-0.11111111, -0.11111111, -0.11111111, -0.22222222, -0.11111111,\n",
       "        -0.22222222, -0.11111111, -0.11111111,  0.66666667, -0.22222222,\n",
       "        -0.22222222,  0.88888889, -0.11111111, -0.11111111, -0.11111111,\n",
       "        -0.11111111, -0.22222222, -0.11111111, -0.11111111, -0.11111111,\n",
       "         0.88888889, -0.11111111, -0.11111111, -0.11111111, -0.11111111,\n",
       "        -0.22222222, -0.22222222, -0.11111111, -0.22222222,  0.66666667,\n",
       "        -0.33333333, -0.11111111],\n",
       "       [-0.11111111, -0.11111111, -0.11111111, -0.22222222, -0.11111111,\n",
       "        -0.22222222, -0.11111111, -0.11111111,  0.66666667, -0.22222222,\n",
       "        -0.22222222, -0.11111111,  0.88888889, -0.11111111, -0.11111111,\n",
       "        -0.11111111,  0.77777778, -0.11111111, -0.11111111,  0.88888889,\n",
       "        -0.11111111, -0.11111111,  0.88888889, -0.11111111, -0.11111111,\n",
       "        -0.22222222, -0.22222222, -0.11111111, -0.22222222,  0.66666667,\n",
       "        -0.33333333,  0.88888889],\n",
       "       [-0.11111111, -0.11111111, -0.11111111, -0.22222222, -0.11111111,\n",
       "        -0.22222222, -0.11111111, -0.11111111,  0.66666667, -0.22222222,\n",
       "        -0.22222222, -0.11111111, -0.11111111, -0.11111111, -0.11111111,\n",
       "        -0.11111111,  0.77777778, -0.11111111, -0.11111111, -0.11111111,\n",
       "        -0.11111111, -0.11111111, -0.11111111, -0.11111111, -0.11111111,\n",
       "        -0.22222222,  0.77777778, -0.11111111, -0.22222222, -0.33333333,\n",
       "        -0.33333333, -0.11111111]])"
      ]
     },
     "execution_count": 44,
     "metadata": {},
     "output_type": "execute_result"
    }
   ],
   "source": [
    "An"
   ]
  },
  {
   "cell_type": "code",
   "execution_count": 45,
   "metadata": {},
   "outputs": [
    {
     "data": {
      "text/plain": [
       "array([[ 0.11111111,  0.11111111, -0.01388889, ..., -0.04166667,\n",
       "        -0.04166667, -0.01388889],\n",
       "       [ 0.11111111,  0.11111111, -0.01388889, ..., -0.04166667,\n",
       "        -0.04166667, -0.01388889],\n",
       "       [-0.01388889, -0.01388889,  0.11111111, ...,  0.08333333,\n",
       "        -0.04166667, -0.01388889],\n",
       "       ...,\n",
       "       [-0.04166667, -0.04166667,  0.08333333, ...,  0.25      ,\n",
       "        -0.125     ,  0.08333333],\n",
       "       [-0.04166667, -0.04166667, -0.04166667, ..., -0.125     ,\n",
       "         0.25      , -0.04166667],\n",
       "       [-0.01388889, -0.01388889, -0.01388889, ...,  0.08333333,\n",
       "        -0.04166667,  0.11111111]])"
      ]
     },
     "execution_count": 45,
     "metadata": {},
     "output_type": "execute_result"
    }
   ],
   "source": [
    "#calculating covarience using numpy built-in function for cross-checking\n",
    "np.cov(A,rowvar=False,)  "
   ]
  },
  {
   "cell_type": "code",
   "execution_count": 46,
   "metadata": {},
   "outputs": [
    {
     "data": {
      "text/plain": [
       "array([[ 0.11111111,  0.11111111, -0.01388889, ..., -0.04166667,\n",
       "        -0.04166667, -0.01388889],\n",
       "       [ 0.11111111,  0.11111111, -0.01388889, ..., -0.04166667,\n",
       "        -0.04166667, -0.01388889],\n",
       "       [-0.01388889, -0.01388889,  0.11111111, ...,  0.08333333,\n",
       "        -0.04166667, -0.01388889],\n",
       "       ...,\n",
       "       [-0.04166667, -0.04166667,  0.08333333, ...,  0.25      ,\n",
       "        -0.125     ,  0.08333333],\n",
       "       [-0.04166667, -0.04166667, -0.04166667, ..., -0.125     ,\n",
       "         0.25      , -0.04166667],\n",
       "       [-0.01388889, -0.01388889, -0.01388889, ...,  0.08333333,\n",
       "        -0.04166667,  0.11111111]])"
      ]
     },
     "execution_count": 46,
     "metadata": {},
     "output_type": "execute_result"
    }
   ],
   "source": [
    "# calculating covarience \n",
    "C=np.dot(An.T,An)/8 \n",
    "C"
   ]
  },
  {
   "cell_type": "code",
   "execution_count": 47,
   "metadata": {},
   "outputs": [
    {
     "data": {
      "text/plain": [
       "array([ 1.18576115e+00+0.00000000e+00j,  9.01824531e-01+0.00000000e+00j,\n",
       "        6.30492789e-01+0.00000000e+00j,  5.31836281e-01+0.00000000e+00j,\n",
       "        2.27415818e-01+0.00000000e+00j,  4.35190397e-01+0.00000000e+00j,\n",
       "        3.70429584e-01+0.00000000e+00j,  3.55938338e-01+0.00000000e+00j,\n",
       "        9.57198616e-17+0.00000000e+00j, -6.51699071e-17+0.00000000e+00j,\n",
       "       -5.77873652e-17+0.00000000e+00j, -4.97016528e-18+4.26420090e-17j,\n",
       "       -4.97016528e-18-4.26420090e-17j, -3.09914042e-17+0.00000000e+00j,\n",
       "       -1.38709756e-17+2.26597292e-17j, -1.38709756e-17-2.26597292e-17j,\n",
       "        2.46872900e-17+1.12426932e-17j,  2.46872900e-17-1.12426932e-17j,\n",
       "        2.69028166e-17+0.00000000e+00j,  2.11181713e-17+0.00000000e+00j,\n",
       "       -1.66401299e-17+0.00000000e+00j, -1.19948748e-17+0.00000000e+00j,\n",
       "        7.08463500e-18+4.26620438e-18j,  7.08463500e-18-4.26620438e-18j,\n",
       "       -5.53799966e-19+5.63424243e-18j, -5.53799966e-19-5.63424243e-18j,\n",
       "        2.86132936e-18+0.00000000e+00j, -1.63383323e-18+0.00000000e+00j,\n",
       "        2.16757056e-19+0.00000000e+00j, -1.01352135e-19+0.00000000e+00j,\n",
       "       -3.97382765e-21+0.00000000e+00j, -2.12746448e-33+0.00000000e+00j])"
      ]
     },
     "execution_count": 47,
     "metadata": {},
     "output_type": "execute_result"
    }
   ],
   "source": [
    "# Computing eigen values and eigen vectors\n",
    "eigen_val,eigen_vec=np.linalg.eig(C)\n",
    "eigen_val"
   ]
  },
  {
   "cell_type": "code",
   "execution_count": 48,
   "metadata": {},
   "outputs": [
    {
     "data": {
      "text/plain": [
       "array([[ 4.21894337e-02+0.j, -2.35900432e-01+0.j,  1.27036714e-01+0.j,\n",
       "        ..., -1.41894403e-03+0.j, -5.71117077e-04+0.j,\n",
       "         2.02041692e-16+0.j],\n",
       "       [ 4.21894337e-02+0.j, -2.35900432e-01+0.j,  1.27036714e-01+0.j,\n",
       "        ..., -1.86007513e-02+0.j, -6.80500355e-03+0.j,\n",
       "         1.43864917e-15+0.j],\n",
       "       [-7.53800161e-02+0.j,  4.33119485e-04+0.j, -3.51096947e-01+0.j,\n",
       "        ...,  1.22670362e-02+0.j,  2.69692752e-03+0.j,\n",
       "        -5.96080106e-16+0.j],\n",
       "       ...,\n",
       "       [-3.56983499e-01+0.j,  1.50020015e-01+0.j, -2.18970028e-01+0.j,\n",
       "        ..., -4.65235815e-02+0.j, -6.97369839e-03+0.j,\n",
       "         9.20036805e-16+0.j],\n",
       "       [ 3.65649211e-01+0.j,  1.83166057e-01+0.j,  1.38680984e-02+0.j,\n",
       "        ...,  1.68794433e-02+0.j,  1.05995682e-03+0.j,\n",
       "        -1.64240866e-17+0.j],\n",
       "       [-1.80955093e-01+0.j,  1.11445339e-01+0.j,  1.69406523e-01+0.j,\n",
       "        ..., -2.48870988e-02+0.j, -9.93730417e-03+0.j,\n",
       "         1.08862066e-15+0.j]])"
      ]
     },
     "execution_count": 48,
     "metadata": {},
     "output_type": "execute_result"
    }
   ],
   "source": [
    "eigen_vec"
   ]
  },
  {
   "cell_type": "code",
   "execution_count": 13,
   "metadata": {},
   "outputs": [
    {
     "data": {
      "text/plain": [
       "((9, 32), (32, 32), (9, 32))"
      ]
     },
     "execution_count": 13,
     "metadata": {},
     "output_type": "execute_result"
    }
   ],
   "source": [
    "# Transforming the data on to PC\n",
    "Q=eigen_vec\n",
    "Y=np.dot(An,Q)\n",
    "Y.shape, Q.shape, An.shape"
   ]
  },
  {
   "cell_type": "code",
   "execution_count": 14,
   "metadata": {},
   "outputs": [
    {
     "data": {
      "text/plain": [
       "array([[ 1.00000000e+00-5.05994128e-33j,  1.00000000e+00+1.36115450e-32j,\n",
       "         6.24500451e-16+5.01271091e-33j,  1.00000000e+00-1.62117468e-33j,\n",
       "        -2.22044605e-16-6.76007256e-33j,  4.16333634e-16-7.47742193e-33j,\n",
       "        -5.13478149e-16+3.56578711e-33j,  1.94289029e-16+2.21427123e-33j,\n",
       "        -8.88178420e-16-8.38838818e-34j,  1.00000000e+00-1.42092172e-33j,\n",
       "         1.00000000e+00-1.86828380e-33j,  4.16333634e-16+8.91754235e-33j,\n",
       "        -1.24900090e-16-3.55492025e-33j,  1.00000000e+00-4.03512777e-33j,\n",
       "        -1.01307851e-15+2.18499940e-33j, -3.33066907e-16+2.80511649e-33j,\n",
       "         1.05471187e-15-1.36589305e-32j,  1.80411242e-16+5.68931482e-33j,\n",
       "         4.16333634e-17-4.92613369e-33j,  3.05311332e-16+4.74930589e-33j,\n",
       "         1.52655666e-16+6.28900049e-33j,  2.77555756e-17-2.79407835e-34j,\n",
       "         0.00000000e+00+4.21934759e-34j,  1.24900090e-16-7.08788912e-33j,\n",
       "        -6.93889390e-17-4.06742099e-33j,  2.77555756e-17+2.06206209e-33j,\n",
       "        -1.11022302e-16+5.39387640e-33j,  1.11022302e-16+2.12829834e-33j,\n",
       "         2.77555756e-17+6.93951575e-34j,  6.66133815e-16+5.05545238e-33j,\n",
       "         2.77555756e-16-1.55791327e-33j,  8.32667268e-17+4.06159844e-33j],\n",
       "       [-2.35922393e-16-3.47289095e-34j,  1.52655666e-16+1.73952991e-33j,\n",
       "        -6.66133815e-16-5.04200892e-33j,  1.00000000e+00+4.29604467e-33j,\n",
       "        -1.11022302e-16-6.14979434e-34j, -1.66533454e-16+1.16379854e-33j,\n",
       "         5.68989300e-16-3.12520950e-33j, -4.44089210e-16-6.62766939e-34j,\n",
       "         6.66133815e-16+3.84426496e-33j, -2.49800181e-16+9.87983252e-34j,\n",
       "         3.60822483e-16+3.41420872e-33j,  3.19189120e-16+8.59079969e-33j,\n",
       "         4.99600361e-16+1.06793354e-32j,  2.77555756e-16+2.61898178e-33j,\n",
       "         5.55111512e-16+4.04454529e-33j,  2.77555756e-16+3.05128269e-35j,\n",
       "        -3.88578059e-16+5.21920891e-33j,  1.00000000e+00-3.60354605e-33j,\n",
       "        -2.77555756e-16-3.79031494e-33j,  3.74700271e-16+4.54341373e-33j,\n",
       "         3.46944695e-16+2.39253724e-33j,  2.63677968e-16-1.29385865e-33j,\n",
       "         1.11022302e-16+9.10127529e-34j, -4.30211422e-16-1.88276116e-33j,\n",
       "         2.77555756e-17+1.47449781e-33j,  1.00000000e+00+1.66914727e-33j,\n",
       "         1.00000000e+00-2.19918251e-33j, -3.19189120e-16-3.52536556e-33j,\n",
       "         1.00000000e+00-4.80380420e-35j, -2.22044605e-16+9.73420132e-34j,\n",
       "         1.00000000e+00-6.89884592e-34j,  1.24900090e-16+2.70534660e-33j],\n",
       "       [-3.19189120e-16-2.84830584e-33j,  6.93889390e-17+2.31819826e-33j,\n",
       "        -9.71445147e-17-2.58415749e-33j,  1.94289029e-16-1.55393638e-33j,\n",
       "         2.91433544e-16+2.33610701e-33j,  1.00000000e+00+5.18242787e-33j,\n",
       "        -4.44089210e-16-1.16161812e-33j,  2.91433544e-16-4.29441088e-33j,\n",
       "        -5.55111512e-16+1.53967380e-33j, -5.55111512e-17-4.29763965e-33j,\n",
       "         1.00000000e+00+2.12409258e-33j, -3.88578059e-16+5.55546520e-33j,\n",
       "        -1.66533454e-16+2.39462607e-33j, -2.35922393e-16+2.86000438e-33j,\n",
       "         1.00000000e+00+3.11682039e-33j, -4.44089210e-16-2.33339820e-33j,\n",
       "         4.44089210e-16+1.36595744e-33j,  2.77555756e-17-5.15760615e-33j,\n",
       "         2.35922393e-16+1.55135451e-34j,  5.55111512e-17+9.60898415e-34j,\n",
       "        -4.30211422e-16-3.00215069e-33j, -2.77555756e-16-1.45634356e-33j,\n",
       "        -3.05311332e-16-1.10463841e-33j,  4.16333634e-17-1.26730176e-33j,\n",
       "        -3.05311332e-16+8.99828362e-34j,  4.99600361e-16-3.95059931e-35j,\n",
       "         3.05311332e-16+2.55071481e-33j,  9.71445147e-17+2.23284622e-33j,\n",
       "         4.99600361e-16-4.74284827e-35j, -5.55111512e-17-9.96694422e-34j,\n",
       "         1.00000000e+00-1.37083513e-33j, -1.94289029e-16+2.20263842e-34j],\n",
       "       [-9.71445147e-17+3.82957147e-33j,  6.24500451e-16-1.18382762e-32j,\n",
       "        -9.43689571e-16+7.11542385e-33j, -3.33066907e-16-2.44471013e-33j,\n",
       "         1.00000000e+00+1.58479367e-33j,  1.00000000e+00-1.10417825e-32j,\n",
       "        -5.82867088e-16+4.62665852e-33j,  4.30211422e-16-1.02387880e-33j,\n",
       "        -3.88578059e-16-1.02631719e-32j,  1.00000000e+00+5.89910461e-33j,\n",
       "        -2.49800181e-16+4.99106386e-33j,  1.52655666e-16-6.25691647e-33j,\n",
       "        -1.16573418e-15-1.04216346e-32j,  6.93889390e-17-8.47692123e-34j,\n",
       "         9.43689571e-16+6.75589354e-33j, -4.44089210e-16+2.40181407e-33j,\n",
       "         2.77555756e-17-1.11228578e-33j, -2.22044605e-16-2.92947057e-33j,\n",
       "        -2.22044605e-16+1.71965026e-33j, -6.52256027e-16+3.82119000e-33j,\n",
       "        -1.52655666e-16+1.58605408e-33j, -3.05311332e-16-1.91978589e-33j,\n",
       "        -7.07767178e-16+5.00272866e-33j, -4.85722573e-16+6.12243823e-35j,\n",
       "        -2.63677968e-16+1.66709081e-33j,  1.66533454e-16-3.95216075e-33j,\n",
       "        -3.88578059e-16-7.66400873e-33j,  1.00000000e+00-5.77629618e-33j,\n",
       "         1.66533454e-16+4.79086094e-33j,  1.22124533e-15+5.88234143e-34j,\n",
       "         1.66533454e-16-3.63896482e-33j, -6.80011603e-16-5.26318855e-33j],\n",
       "       [-4.16333634e-16+2.30489889e-34j,  8.18789481e-16+3.28027386e-33j,\n",
       "         2.35922393e-16-3.45910644e-35j, -1.66533454e-16-4.94841906e-33j,\n",
       "        -4.57966998e-16+2.22576723e-33j, -1.66533454e-16+1.54898453e-33j,\n",
       "         1.00000000e+00+7.26650386e-34j,  4.44089210e-16+4.34465092e-33j,\n",
       "         0.00000000e+00-3.08908284e-33j, -2.77555756e-17+2.52872721e-33j,\n",
       "         4.16333634e-16+1.40127816e-34j,  5.55111512e-17-3.63885546e-33j,\n",
       "        -2.35922393e-16+3.55339460e-33j,  2.63677968e-16+2.61898178e-33j,\n",
       "        -1.24900090e-16-1.68509630e-33j,  1.00000000e+00+2.23105821e-34j,\n",
       "         5.55111512e-16+9.82163036e-34j,  4.16333634e-16+4.10017372e-33j,\n",
       "         4.99600361e-16+2.13191964e-33j,  1.38777878e-17-5.47142198e-33j,\n",
       "        -1.94289029e-16-4.96357674e-34j,  1.00000000e+00-2.06423063e-33j,\n",
       "         5.55111512e-17+1.68049951e-33j,  6.93889390e-17+1.10243026e-33j,\n",
       "         1.00000000e+00-1.60699010e-33j,  1.00000000e+00-2.76049160e-33j,\n",
       "         9.43689571e-16+1.26749138e-33j,  2.22044605e-16-3.33277256e-33j,\n",
       "         1.00000000e+00+3.37147947e-34j,  6.66133815e-16+7.13639595e-33j,\n",
       "         1.00000000e+00+2.19901032e-33j, -4.16333634e-17-1.53169928e-33j],\n",
       "       [-4.57966998e-16-5.10808953e-33j,  1.11022302e-16-6.40336595e-34j,\n",
       "         1.00000000e+00-4.13545632e-33j, -1.02695630e-15-1.00952664e-32j,\n",
       "        -1.94289029e-16+1.67934299e-35j, -7.77156117e-16+4.55964023e-33j,\n",
       "         5.55111512e-16-2.40459572e-33j,  1.00000000e+00-3.85734197e-34j,\n",
       "         1.66533454e-16-2.57217577e-33j,  2.77555756e-17-6.42833958e-33j,\n",
       "         1.38777878e-16+2.02090885e-34j,  2.77555756e-16+6.60117714e-34j,\n",
       "         4.16333634e-16-5.72159144e-33j,  6.66133815e-16+5.87104097e-34j,\n",
       "        -2.77555756e-16-4.59186659e-33j,  1.24900090e-16+9.27334797e-34j,\n",
       "         1.38777878e-16-4.70335626e-33j, -7.35522754e-16+8.38561674e-33j,\n",
       "         1.00000000e+00+1.77850993e-33j,  1.24900090e-16-1.02848394e-33j,\n",
       "        -1.80411242e-16-6.85547138e-33j,  1.11022302e-16+1.06874313e-33j,\n",
       "         1.24900090e-16-3.04473914e-33j,  1.00000000e+00+3.48065145e-33j,\n",
       "         7.21644966e-16+1.32518285e-33j, -1.94289029e-16-3.66757950e-33j,\n",
       "        -1.13797860e-15+1.25312702e-33j, -2.63677968e-16-3.21615726e-33j,\n",
       "        -1.38777878e-16-1.13568187e-33j,  1.00000000e+00+1.97396446e-33j,\n",
       "         2.22044605e-16+7.05054413e-34j,  5.55111512e-17+3.19492997e-33j],\n",
       "       [-6.38378239e-16+5.53808517e-35j, -1.38777878e-17-4.81937713e-33j,\n",
       "         3.33066907e-16-2.00189377e-33j, -5.55111512e-17+6.31186112e-33j,\n",
       "        -8.32667268e-17-2.19793198e-34j, -3.05311332e-16+5.54018076e-34j,\n",
       "        -1.52655666e-16+4.07107687e-35j,  6.93889390e-17+1.55493112e-34j,\n",
       "         1.00000000e+00+1.10360049e-33j,  4.71844785e-16+9.42144367e-34j,\n",
       "        -3.33066907e-16-1.74081167e-33j,  1.00000000e+00+9.66682414e-34j,\n",
       "        -8.32667268e-17-5.43960023e-35j,  2.35922393e-16+2.24842291e-34j,\n",
       "        -8.88178420e-16+9.44743348e-34j,  2.77555756e-17+2.24787917e-33j,\n",
       "         2.77555756e-16-2.09421379e-33j,  0.00000000e+00+2.75382029e-33j,\n",
       "         2.08166817e-16+4.75095126e-34j, -2.35922393e-16-1.43942332e-33j,\n",
       "         1.00000000e+00+2.96319421e-34j, -1.38777878e-16+2.51427396e-33j,\n",
       "         2.08166817e-16+9.00731259e-35j,  3.05311332e-16+8.26738017e-34j,\n",
       "        -1.66533454e-16-2.05005828e-33j,  2.77555756e-16-7.81412205e-34j,\n",
       "         6.10622664e-16-5.66743424e-34j,  2.22044605e-16+1.24100397e-33j,\n",
       "         3.33066907e-16+1.46749719e-33j,  1.00000000e+00-2.85884202e-34j,\n",
       "        -4.44089210e-16+7.48660030e-34j,  1.80411242e-16+1.85418365e-33j],\n",
       "       [ 2.09554596e-15+2.03298253e-33j, -3.05311332e-16+4.33388911e-33j,\n",
       "         6.52256027e-16+1.71343947e-33j,  3.05311332e-16+2.15950732e-33j,\n",
       "         1.80411242e-16+3.30889563e-33j, -1.41553436e-15-5.07886552e-33j,\n",
       "         8.32667268e-17-1.02649035e-33j,  1.80411242e-16+1.75314025e-33j,\n",
       "         1.00000000e+00-1.28445598e-34j, -9.15933995e-16-1.73202584e-33j,\n",
       "        -7.49400542e-16+1.84228229e-33j, -5.41233725e-16-6.33104695e-35j,\n",
       "         1.00000000e+00-4.70367790e-33j,  6.93889390e-17+4.27127533e-35j,\n",
       "        -1.24900090e-16+9.33558970e-34j,  3.74700271e-16+3.06175726e-34j,\n",
       "         1.00000000e+00-4.79891535e-33j,  2.35922393e-16-1.44339758e-33j,\n",
       "         5.96744876e-16+1.78742888e-33j,  1.00000000e+00-3.27687874e-35j,\n",
       "         2.22044605e-16-3.73800725e-33j, -5.55111512e-17-2.75677439e-33j,\n",
       "         1.00000000e+00+8.31000734e-34j,  8.32667268e-17-1.25972301e-33j,\n",
       "         1.38777878e-16-2.89926709e-33j, -3.60822483e-16-8.29648358e-34j,\n",
       "         5.55111512e-17+1.66364013e-34j, -6.93889390e-16-3.03529957e-34j,\n",
       "        -3.05311332e-16-2.42644483e-33j,  1.00000000e+00-5.29289544e-34j,\n",
       "        -5.55111512e-17+4.40057987e-34j,  1.00000000e+00-2.14086508e-34j],\n",
       "       [ 7.63278329e-16+5.53808517e-35j, -4.30211422e-16+3.07693564e-33j,\n",
       "        -1.38777878e-16-1.32781829e-33j,  5.55111512e-17+2.46000123e-33j,\n",
       "         4.02455846e-16+3.53577019e-33j, -4.16333634e-16+8.42907568e-34j,\n",
       "         4.44089210e-16-9.22254203e-34j, -2.35922393e-16+1.88883006e-33j,\n",
       "         1.00000000e+00-1.20751544e-33j, -4.99600361e-16-2.13413599e-34j,\n",
       "        -5.55111512e-16+3.29563020e-34j, -8.32667268e-17-3.81468547e-34j,\n",
       "        -5.55111512e-17-4.39581991e-34j,  1.52655666e-16-5.34969829e-34j,\n",
       "         6.93889390e-17+4.63260862e-34j,  1.11022302e-16-1.98916671e-33j,\n",
       "         1.00000000e+00+6.26162258e-34j,  1.38777878e-16-1.96470807e-33j,\n",
       "        -5.55111512e-17+1.72694959e-33j, -3.60822483e-16-2.98016728e-33j,\n",
       "         3.60822483e-16+1.45187739e-33j,  2.77555756e-16+3.28464594e-33j,\n",
       "        -1.52655666e-16+1.72711358e-33j, -1.52655666e-16+3.45255531e-34j,\n",
       "         2.77555756e-16-2.43524427e-33j, -3.88578059e-16-1.10402276e-35j,\n",
       "         1.00000000e+00-1.52970840e-33j, -5.55111512e-16+8.54460013e-35j,\n",
       "        -2.77555756e-16+8.89718202e-34j,  0.00000000e+00-8.75997596e-33j,\n",
       "         2.22044605e-16-4.06897937e-34j, -2.22044605e-16-3.60635789e-34j]])"
      ]
     },
     "execution_count": 14,
     "metadata": {},
     "output_type": "execute_result"
    }
   ],
   "source": [
    "# reconstructing the orignal data\n",
    "A_recon=np.dot(Y,Q.T)\n",
    "A_recon+A.mean(axis=0)"
   ]
  },
  {
   "cell_type": "code",
   "execution_count": 18,
   "metadata": {},
   "outputs": [
    {
     "data": {
      "text/plain": [
       "array([[ 0.89-0.j,  0.89+0.j, -0.11+0.j,  0.78-0.j, -0.11-0.j, -0.22-0.j,\n",
       "        -0.11+0.j, -0.11+0.j, -0.33-0.j,  0.78-0.j,  0.78-0.j, -0.11+0.j,\n",
       "        -0.11-0.j,  0.89-0.j, -0.11+0.j, -0.11+0.j, -0.22-0.j, -0.11+0.j,\n",
       "        -0.11-0.j, -0.11+0.j, -0.11+0.j, -0.11-0.j, -0.11+0.j, -0.11-0.j,\n",
       "        -0.11-0.j, -0.22+0.j, -0.22+0.j, -0.11+0.j, -0.22+0.j, -0.33+0.j,\n",
       "        -0.33-0.j, -0.11+0.j],\n",
       "       [-0.11-0.j, -0.11+0.j, -0.11-0.j,  0.78+0.j, -0.11-0.j, -0.22+0.j,\n",
       "        -0.11-0.j, -0.11-0.j, -0.33+0.j, -0.22+0.j, -0.22+0.j, -0.11+0.j,\n",
       "        -0.11+0.j, -0.11+0.j, -0.11+0.j, -0.11+0.j, -0.22+0.j,  0.89-0.j,\n",
       "        -0.11-0.j, -0.11+0.j, -0.11+0.j, -0.11-0.j, -0.11+0.j, -0.11-0.j,\n",
       "        -0.11+0.j,  0.78+0.j,  0.78-0.j, -0.11-0.j,  0.78-0.j, -0.33+0.j,\n",
       "         0.67-0.j, -0.11+0.j],\n",
       "       [-0.11-0.j, -0.11+0.j, -0.11-0.j, -0.22-0.j, -0.11+0.j,  0.78+0.j,\n",
       "        -0.11-0.j, -0.11-0.j, -0.33+0.j, -0.22-0.j,  0.78+0.j, -0.11+0.j,\n",
       "        -0.11+0.j, -0.11+0.j,  0.89+0.j, -0.11-0.j, -0.22+0.j, -0.11-0.j,\n",
       "        -0.11+0.j, -0.11+0.j, -0.11-0.j, -0.11-0.j, -0.11-0.j, -0.11-0.j,\n",
       "        -0.11+0.j, -0.22-0.j, -0.22+0.j, -0.11+0.j, -0.22-0.j, -0.33-0.j,\n",
       "         0.67-0.j, -0.11+0.j],\n",
       "       [-0.11+0.j, -0.11-0.j, -0.11+0.j, -0.22-0.j,  0.89+0.j,  0.78-0.j,\n",
       "        -0.11+0.j, -0.11-0.j, -0.33-0.j,  0.78+0.j, -0.22+0.j, -0.11-0.j,\n",
       "        -0.11-0.j, -0.11-0.j, -0.11+0.j, -0.11+0.j, -0.22-0.j, -0.11-0.j,\n",
       "        -0.11+0.j, -0.11+0.j, -0.11+0.j, -0.11-0.j, -0.11+0.j, -0.11+0.j,\n",
       "        -0.11+0.j, -0.22-0.j, -0.22-0.j,  0.89-0.j, -0.22+0.j, -0.33+0.j,\n",
       "        -0.33-0.j, -0.11-0.j],\n",
       "       [-0.11+0.j, -0.11+0.j, -0.11-0.j, -0.22-0.j, -0.11+0.j, -0.22+0.j,\n",
       "         0.89+0.j, -0.11+0.j, -0.33-0.j, -0.22+0.j, -0.22+0.j, -0.11-0.j,\n",
       "        -0.11+0.j, -0.11+0.j, -0.11-0.j,  0.89+0.j, -0.22+0.j, -0.11+0.j,\n",
       "        -0.11+0.j, -0.11-0.j, -0.11-0.j,  0.89-0.j, -0.11+0.j, -0.11+0.j,\n",
       "         0.89-0.j,  0.78-0.j, -0.22+0.j, -0.11-0.j,  0.78+0.j, -0.33+0.j,\n",
       "         0.67+0.j, -0.11-0.j],\n",
       "       [-0.11-0.j, -0.11-0.j,  0.89-0.j, -0.22-0.j, -0.11+0.j, -0.22+0.j,\n",
       "        -0.11-0.j,  0.89-0.j, -0.33-0.j, -0.22-0.j, -0.22+0.j, -0.11+0.j,\n",
       "        -0.11-0.j, -0.11+0.j, -0.11-0.j, -0.11+0.j, -0.22-0.j, -0.11+0.j,\n",
       "         0.89+0.j, -0.11-0.j, -0.11-0.j, -0.11+0.j, -0.11-0.j,  0.89+0.j,\n",
       "        -0.11+0.j, -0.22-0.j, -0.22+0.j, -0.11-0.j, -0.22-0.j,  0.67+0.j,\n",
       "        -0.33+0.j, -0.11+0.j],\n",
       "       [-0.11+0.j, -0.11-0.j, -0.11-0.j, -0.22+0.j, -0.11-0.j, -0.22+0.j,\n",
       "        -0.11+0.j, -0.11+0.j,  0.67+0.j, -0.22+0.j, -0.22-0.j,  0.89+0.j,\n",
       "        -0.11-0.j, -0.11+0.j, -0.11+0.j, -0.11+0.j, -0.22-0.j, -0.11+0.j,\n",
       "        -0.11+0.j, -0.11-0.j,  0.89+0.j, -0.11+0.j, -0.11+0.j, -0.11+0.j,\n",
       "        -0.11-0.j, -0.22-0.j, -0.22-0.j, -0.11+0.j, -0.22+0.j,  0.67-0.j,\n",
       "        -0.33+0.j, -0.11+0.j],\n",
       "       [-0.11+0.j, -0.11+0.j, -0.11+0.j, -0.22+0.j, -0.11+0.j, -0.22-0.j,\n",
       "        -0.11-0.j, -0.11+0.j,  0.67-0.j, -0.22-0.j, -0.22+0.j, -0.11-0.j,\n",
       "         0.89-0.j, -0.11+0.j, -0.11+0.j, -0.11+0.j,  0.78-0.j, -0.11-0.j,\n",
       "        -0.11+0.j,  0.89-0.j, -0.11-0.j, -0.11-0.j,  0.89+0.j, -0.11-0.j,\n",
       "        -0.11-0.j, -0.22-0.j, -0.22+0.j, -0.11-0.j, -0.22-0.j,  0.67-0.j,\n",
       "        -0.33+0.j,  0.89-0.j],\n",
       "       [-0.11+0.j, -0.11+0.j, -0.11-0.j, -0.22+0.j, -0.11+0.j, -0.22+0.j,\n",
       "        -0.11-0.j, -0.11+0.j,  0.67-0.j, -0.22-0.j, -0.22+0.j, -0.11-0.j,\n",
       "        -0.11-0.j, -0.11-0.j, -0.11+0.j, -0.11-0.j,  0.78+0.j, -0.11-0.j,\n",
       "        -0.11+0.j, -0.11-0.j, -0.11+0.j, -0.11+0.j, -0.11+0.j, -0.11+0.j,\n",
       "        -0.11-0.j, -0.22-0.j,  0.78-0.j, -0.11+0.j, -0.22+0.j, -0.33-0.j,\n",
       "        -0.33-0.j, -0.11-0.j]])"
      ]
     },
     "execution_count": 18,
     "metadata": {},
     "output_type": "execute_result"
    }
   ],
   "source": [
    "np.round(A_recon,2) #just for cross-checking with the orignal "
   ]
  },
  {
   "cell_type": "markdown",
   "metadata": {},
   "source": [
    "<b> c. Draw scree plot and choose principal components such that 92% variance is\n",
    "retained. </b>"
   ]
  },
  {
   "cell_type": "code",
   "execution_count": 82,
   "metadata": {},
   "outputs": [
    {
     "data": {
      "image/png": "[encoded data removed]",
      "text/plain": [
       "<Figure size 432x288 with 1 Axes>"
      ]
     },
     "metadata": {
      "needs_background": "light"
     },
     "output_type": "display_data"
    }
   ],
   "source": [
    "PC_values = np.arange(len(eigen_val)) + 1\n",
    "#PC_values = abs(PC_values)\n",
    "plt.plot(PC_values, eigen_val, linewidth=2, color='blue')\n",
    "plt.title('Scree Plot')\n",
    "plt.xlabel('Principal Component')\n",
    "plt.ylabel('Variance Explained')\n",
    "plt.show()"
   ]
  },
  {
   "cell_type": "markdown",
   "metadata": {},
   "source": [
    "By looking at the scree plot first 2 principal components cover 92% varience. So for choosing first 2 principal components we can get the 2 highest values from all of the eigen values. Then eigen vectors corresponding to these maximum values will become our 1st and 2nd Principal components."
   ]
  },
  {
   "cell_type": "code",
   "execution_count": 76,
   "metadata": {},
   "outputs": [
    {
     "name": "stdout",
     "output_type": "stream",
     "text": [
      "\n",
      "Elements of array sorted in ascending order: \n",
      "1.1857611498188194 0.9018245310886152 0.6304927893880804 0.5318362810308552 0.4351903974757957 0.3704295844436469 0.35593833753630294 0.22741581810677364 9.571986163900319e-17 6.516990709270653e-17 5.778736520553559e-17 4.2930682229557055e-17 4.2930682229557055e-17 3.0991404173112066e-17 2.7126747663606787e-17 2.7126747663606787e-17 2.6902816637553128e-17 2.6568163139142622e-17 2.6568163139142622e-17 2.1118171269447817e-17 1.6640129896237864e-17 1.1994874757468245e-17 8.269979009299673e-18 8.269979009299673e-18 5.6613940119132045e-18 5.6613940119132045e-18 2.8613293614499316e-18 1.633833233145674e-18 2.16757055903564e-19 1.013521348850269e-19 3.973827652878065e-21 2.1274644808420795e-33 "
     ]
    }
   ],
   "source": [
    "abs_eigen_val = abs(eigen_val)\n",
    "#print(max(abs_eigen_val))\n",
    "#Sort the array in decending order    \n",
    "for i in range(0, len(abs_eigen_val)):    \n",
    "    for j in range(i+1, len(abs_eigen_val)):    \n",
    "        if(abs_eigen_val[i] < abs_eigen_val[j]):    \n",
    "            temp = abs_eigen_val[i];    \n",
    "            abs_eigen_val[i] = abs_eigen_val[j];    \n",
    "            abs_eigen_val[j] = temp;    \n",
    "     \n",
    "print();    \n",
    "     \n",
    "#Displaying elements of the array after sorting    \n",
    "    \n",
    "print(\"Elements of array sorted in ascending order: \");    \n",
    "for i in range(0, len(abs_eigen_val)):    \n",
    "    print(abs_eigen_val[i], end=\" \");    "
   ]
  },
  {
   "cell_type": "markdown",
   "metadata": {},
   "source": [
    "The selected eigen values are 1.1857611498188194 and 0.9018245310886152. In orignal eigen value vector these are on the index of 0 and 1. Hence selecting 1st PC and 2 PC from index 0 and 1 of eigen vectors matrix."
   ]
  },
  {
   "cell_type": "code",
   "execution_count": 96,
   "metadata": {},
   "outputs": [
    {
     "data": {
      "text/plain": [
       "(32, 2)"
      ]
     },
     "execution_count": 96,
     "metadata": {},
     "output_type": "execute_result"
    }
   ],
   "source": [
    "selected_eig_vec = eigen_vec[:,[0,1]]\n",
    "#print(selected_eig_vec)\n",
    "selected_eig_vec.shape"
   ]
  },
  {
   "cell_type": "markdown",
   "metadata": {},
   "source": [
    "<b> d. Project the zero centered data matrix onto the principal components to get\n",
    "transformed data Y. </b>"
   ]
  },
  {
   "cell_type": "code",
   "execution_count": 100,
   "metadata": {},
   "outputs": [
    {
     "name": "stdout",
     "output_type": "stream",
     "text": [
      "[[ 0.40021273+0.j -1.70192637+0.j]\n",
      " [ 1.33622717+0.j  0.64593737+0.j]\n",
      " [ 0.52467233+0.j -0.59324785+0.j]\n",
      " [ 0.07079194+0.j -1.04755399+0.j]\n",
      " [ 1.60768153+0.j  1.26877962+0.j]\n",
      " [-0.71506156+0.j  0.00312478+0.j]\n",
      " [-0.95475961+0.j  0.27517593+0.j]\n",
      " [-1.71655615+0.j  0.80403313+0.j]\n",
      " [-0.55320838+0.j  0.34567739+0.j]]\n"
     ]
    }
   ],
   "source": [
    "# Transforming the data on to PC\n",
    "R=selected_eig_vec\n",
    "Yn=np.dot(An,R)\n",
    "Yn.shape, R.shape, An.shape\n",
    "print(Yn)"
   ]
  },
  {
   "cell_type": "markdown",
   "metadata": {},
   "source": [
    "<b> e. Now reconstruct the original data matrix by reversing the process. </b>"
   ]
  },
  {
   "cell_type": "code",
   "execution_count": 109,
   "metadata": {},
   "outputs": [
    {
     "data": {
      "text/plain": [
       "(9, 32)"
      ]
     },
     "execution_count": 109,
     "metadata": {},
     "output_type": "execute_result"
    }
   ],
   "source": [
    "# reconstructing the orignal data\n",
    "A_recons = np.dot(Yn,R.T)\n",
    "A_rec = A_recons+A.mean(axis=0)\n",
    "A_rec = abs(np.round(A_rec,2))\n",
    "#print(A_rec)\n",
    "A_rec.shape"
   ]
  },
  {
   "cell_type": "markdown",
   "metadata": {},
   "source": [
    "<b> f. Calculate the reconstruction loss. </b>"
   ]
  },
  {
   "cell_type": "code",
   "execution_count": 115,
   "metadata": {},
   "outputs": [
    {
     "data": {
      "text/plain": [
       "(9, 32)"
      ]
     },
     "execution_count": 115,
     "metadata": {},
     "output_type": "execute_result"
    }
   ],
   "source": [
    "rec_loss = (A - A_rec)**2\n",
    "#print(rec_loss)\n",
    "rec_loss.shape"
   ]
  },
  {
   "cell_type": "markdown",
   "metadata": {},
   "source": [
    "<b> g. Now you are asked to transform a test data point [[3,3,3,0,0]] by projecting it onto\n",
    "the new axis obtained through PCA. </b>"
   ]
  },
  {
   "cell_type": "code",
   "execution_count": 116,
   "metadata": {},
   "outputs": [
    {
     "ename": "ValueError",
     "evalue": "shapes (5,) and (32,2) not aligned: 5 (dim 0) != 32 (dim 0)",
     "output_type": "error",
     "traceback": [
      "\u001b[1;31m---------------------------------------------------------------------------\u001b[0m",
      "\u001b[1;31mValueError\u001b[0m                                Traceback (most recent call last)",
      "\u001b[1;32m<ipython-input-116-2fa4a0cd3f67>\u001b[0m in \u001b[0;36m<module>\u001b[1;34m\u001b[0m\n\u001b[0;32m      2\u001b[0m \u001b[0mtest_data_point\u001b[0m\u001b[1;33m=\u001b[0m\u001b[1;33m[\u001b[0m\u001b[1;36m3\u001b[0m\u001b[1;33m,\u001b[0m\u001b[1;36m3\u001b[0m\u001b[1;33m,\u001b[0m\u001b[1;36m3\u001b[0m\u001b[1;33m,\u001b[0m\u001b[1;36m0\u001b[0m\u001b[1;33m,\u001b[0m\u001b[1;36m0\u001b[0m\u001b[1;33m]\u001b[0m\u001b[1;33m\u001b[0m\u001b[0m\n\u001b[0;32m      3\u001b[0m \u001b[0mR\u001b[0m\u001b[1;33m=\u001b[0m\u001b[0mselected_eig_vec\u001b[0m\u001b[1;33m\u001b[0m\u001b[0m\n\u001b[1;32m----> 4\u001b[1;33m \u001b[0mYt\u001b[0m\u001b[1;33m=\u001b[0m\u001b[0mnp\u001b[0m\u001b[1;33m.\u001b[0m\u001b[0mdot\u001b[0m\u001b[1;33m(\u001b[0m\u001b[0mtest_data_point\u001b[0m\u001b[1;33m,\u001b[0m\u001b[0mR\u001b[0m\u001b[1;33m)\u001b[0m\u001b[1;33m\u001b[0m\u001b[0m\n\u001b[0m\u001b[0;32m      5\u001b[0m \u001b[0mYt\u001b[0m\u001b[1;33m.\u001b[0m\u001b[0mshape\u001b[0m\u001b[1;33m,\u001b[0m \u001b[0mR\u001b[0m\u001b[1;33m.\u001b[0m\u001b[0mshape\u001b[0m\u001b[1;33m,\u001b[0m \u001b[0mAn\u001b[0m\u001b[1;33m.\u001b[0m\u001b[0mshape\u001b[0m\u001b[1;33m\u001b[0m\u001b[0m\n\u001b[0;32m      6\u001b[0m \u001b[0mprint\u001b[0m\u001b[1;33m(\u001b[0m\u001b[0mYt\u001b[0m\u001b[1;33m)\u001b[0m\u001b[1;33m\u001b[0m\u001b[0m\n",
      "\u001b[1;32m<__array_function__ internals>\u001b[0m in \u001b[0;36mdot\u001b[1;34m(*args, **kwargs)\u001b[0m\n",
      "\u001b[1;31mValueError\u001b[0m: shapes (5,) and (32,2) not aligned: 5 (dim 0) != 32 (dim 0)"
     ]
    }
   ],
   "source": [
    "# Transforming the data on to PC\n",
    "test_data_point=[3,3,3,0,0]\n",
    "R=selected_eig_vec\n",
    "Yt=np.dot(test_data_point,R)\n",
    "Yt.shape, R.shape, An.shape\n",
    "print(Yt)"
   ]
  },
  {
   "cell_type": "markdown",
   "metadata": {},
   "source": [
    "# Part 02 question 4\n",
    "<b> Solve “part a to f” question 3 by using np.linalg.svd( ) and compare the results. Can we\n",
    "transform the test data point, given in part g, using the svd method? If yes, then solve\n",
    "part g and h of question 3. If no, then explain the reason behind it.</b>"
   ]
  },
  {
   "cell_type": "code",
   "execution_count": 119,
   "metadata": {},
   "outputs": [],
   "source": [
    "import pandas as pd\n",
    "from sklearn.feature_extraction.text import CountVectorizer, TfidfVectorizer"
   ]
  },
  {
   "cell_type": "code",
   "execution_count": 120,
   "metadata": {},
   "outputs": [
    {
     "name": "stdout",
     "output_type": "stream",
     "text": [
      "[[1 1 0 1 0 0 0 0 0 1 1 0 0 1 0 0 0 0 0 0 0 0 0 0 0 0 0 0 0 0 0 0]\n",
      " [0 0 0 1 0 0 0 0 0 0 0 0 0 0 0 0 0 1 0 0 0 0 0 0 0 1 1 0 1 0 1 0]\n",
      " [0 0 0 0 0 1 0 0 0 0 1 0 0 0 1 0 0 0 0 0 0 0 0 0 0 0 0 0 0 0 1 0]\n",
      " [0 0 0 0 1 1 0 0 0 1 0 0 0 0 0 0 0 0 0 0 0 0 0 0 0 0 0 1 0 0 0 0]\n",
      " [0 0 0 0 0 0 1 0 0 0 0 0 0 0 0 1 0 0 0 0 0 1 0 0 1 1 0 0 1 0 1 0]\n",
      " [0 0 1 0 0 0 0 1 0 0 0 0 0 0 0 0 0 0 1 0 0 0 0 1 0 0 0 0 0 1 0 0]\n",
      " [0 0 0 0 0 0 0 0 1 0 0 1 0 0 0 0 0 0 0 0 1 0 0 0 0 0 0 0 0 1 0 0]\n",
      " [0 0 0 0 0 0 0 0 1 0 0 0 1 0 0 0 1 0 0 1 0 0 1 0 0 0 0 0 0 1 0 1]\n",
      " [0 0 0 0 0 0 0 0 1 0 0 0 0 0 0 0 1 0 0 0 0 0 0 0 0 0 1 0 0 0 0 0]]\n"
     ]
    }
   ],
   "source": [
    "sentence_1=\"Human machine interface for ABC computer applications\"\n",
    "sentence_2=\"A survey of user opinion of computer system response time\"\n",
    "sentence_3=\"The EPS user interface management system\"\n",
    "sentence_4=\"System and human system engineering testing of EPS\"\n",
    "sentence_5=\"Relation of user perceived response time to error measurement\"\n",
    "sentence_6=\"The generation of random, binary, ordered trees\"\n",
    "sentence_7=\"The intersection graph of paths in trees\"\n",
    "sentence_8=\"Graph minors IV: Widths of trees and well-quasi-ordering\"\n",
    "sentence_9=\"Graph minors: A survey\"\n",
    "\n",
    "CountVec = CountVectorizer(ngram_range=(1,1), # to use bigrams ngram_range=(2,2)\n",
    "                           stop_words='english')\n",
    "#transform\n",
    "Count_data = CountVec.fit_transform([sentence_1,sentence_2,sentence_3,sentence_4,sentence_5,sentence_6,sentence_7,sentence_8,sentence_9])\n",
    " \n",
    "#create dataframe\n",
    "A=np.array(Count_data.toarray())\n",
    "print(A)"
   ]
  },
  {
   "cell_type": "code",
   "execution_count": 129,
   "metadata": {
    "scrolled": true
   },
   "outputs": [
    {
     "name": "stdout",
     "output_type": "stream",
     "text": [
      "(9, 9) (9,) (9, 32)\n",
      "U: [[-0.22784912  0.0588541   0.79627815 -0.01583129  0.38054292 -0.39631442\n",
      "  -0.034907   -0.01396587  0.08378473]\n",
      " [-0.62215094  0.09790739 -0.0612189  -0.10747606  0.38581272  0.53829917\n",
      "   0.05511328  0.12576766 -0.36134618]\n",
      " [-0.25670294  0.06627912  0.27397511  0.06596013 -0.47931635  0.2630337\n",
      "   0.23261217 -0.70215714  0.06506623]\n",
      " [-0.0781514   0.0240701   0.38847023  0.05993812 -0.60550598  0.22551754\n",
      "  -0.17945433  0.62044085 -0.06453632]\n",
      " [-0.6634507   0.16373369 -0.36871551  0.11853454 -0.23903835 -0.52295504\n",
      "  -0.09702119  0.07819866  0.19202458]\n",
      " [-0.04328833 -0.28471711  0.00790819  0.89795722  0.15530558  0.11900994\n",
      "   0.20961608  0.09717266  0.13786935]\n",
      " [-0.07703962 -0.41379117  0.00532842  0.11401176  0.00118436  0.03387755\n",
      "  -0.83387842 -0.27981224 -0.18712963]\n",
      " [-0.14806712 -0.78165059  0.00855082 -0.26096852 -0.13115565 -0.2232223\n",
      "   0.39332792  0.07048131 -0.26873097]\n",
      " [-0.13823627 -0.30315791 -0.01032979 -0.28066722  0.10719891  0.30741304\n",
      "  -0.07758654  0.08482861  0.83120111]]\n",
      "Sigma: [3.19377068 3.03293589 2.59904709 2.19916876 2.04037385 1.84634792\n",
      " 1.70243889 1.68694504 1.30135771]\n",
      "V already transposed: [[-7.13417273e-02  1.94049917e-02  3.06373113e-01 -7.19876004e-03\n",
      "   1.86506468e-01 -2.14647747e-01 -2.05041141e-02 -8.27879074e-03\n",
      "   6.43825518e-02]\n",
      " [-7.13417273e-02  1.94049917e-02  3.06373113e-01 -7.19876004e-03\n",
      "   1.86506468e-01 -2.14647747e-01 -2.05041141e-02 -8.27879074e-03\n",
      "   6.43825518e-02]\n",
      " [-1.35539892e-02 -9.38750828e-02  3.04272672e-03  4.08316651e-01\n",
      "   7.61162392e-02  6.44569435e-02  1.23126934e-01  5.76027398e-02\n",
      "   1.05942697e-01]\n",
      " [-2.66143109e-01  5.16863822e-02  2.82818751e-01 -5.60699813e-02\n",
      "   3.75595700e-01  7.69003210e-02  1.18690156e-02  6.62747102e-02\n",
      "  -2.13286055e-01]\n",
      " [-2.44699474e-02  7.93623661e-03  1.49466406e-01  2.72548975e-02\n",
      "  -2.96762273e-01  1.22142496e-01 -1.05410147e-01  3.67789601e-01\n",
      "  -4.95915296e-02]\n",
      " [-1.04846081e-01  2.97893592e-02  2.54880083e-01  5.72481070e-02\n",
      "  -5.31678217e-01  2.64604107e-01  3.12245184e-02 -4.84404033e-02\n",
      "   4.07200295e-04]\n",
      " [-2.07732728e-01  5.39852125e-02 -1.41865652e-01  5.38997020e-02\n",
      "  -1.17154194e-01 -2.83237537e-01 -5.69895289e-02  4.63551925e-02\n",
      "   1.47557108e-01]\n",
      " [-1.35539892e-02 -9.38750828e-02  3.04272672e-03  4.08316651e-01\n",
      "   7.61162392e-02  6.44569435e-02  1.23126934e-01  5.76027398e-02\n",
      "   1.05942697e-01]\n",
      " [-1.13766155e-01 -4.94108587e-01  1.36567107e-03 -1.94448006e-01\n",
      "  -1.11608856e-02  6.39469362e-02 -3.04349862e-01 -7.38034264e-02\n",
      "   2.88422246e-01]\n",
      " [-9.58116747e-02  2.73412283e-02  4.55839519e-01  2.00561374e-02\n",
      "  -1.10255805e-01 -9.25052508e-02 -1.25914261e-01  3.59510811e-01\n",
      "   1.47910222e-02]\n",
      " [-1.51717861e-01  4.12581143e-02  4.11786790e-01  2.27944494e-02\n",
      "  -4.84094768e-02 -7.21861367e-02  1.16130551e-01 -4.24508795e-01\n",
      "   1.14381282e-01]\n",
      " [-2.41218390e-02 -1.36432547e-01  2.05014272e-03  5.18431143e-02\n",
      "   5.80460822e-04  1.83484118e-02 -4.89814009e-01 -1.65869209e-01\n",
      "  -1.43795688e-01]\n",
      " [-4.63612243e-02 -2.57720776e-01  3.28998193e-03 -1.18666892e-01\n",
      "  -6.42802049e-02 -1.20899367e-01  2.31037907e-01  4.17804415e-02\n",
      "  -2.06500460e-01]\n",
      " [-7.13417273e-02  1.94049917e-02  3.06373113e-01 -7.19876004e-03\n",
      "   1.86506468e-01 -2.14647747e-01 -2.05041141e-02 -8.27879074e-03\n",
      "   6.43825518e-02]\n",
      " [-8.03761339e-02  2.18531226e-02  1.05413677e-01  2.99932095e-02\n",
      "  -2.34915944e-01  1.42461610e-01  1.36634666e-01 -4.16230005e-01\n",
      "   4.99987299e-02]\n",
      " [-2.07732728e-01  5.39852125e-02 -1.41865652e-01  5.38997020e-02\n",
      "  -1.17154194e-01 -2.83237537e-01 -5.69895289e-02  4.63551925e-02\n",
      "   1.47557108e-01]\n",
      " [-8.96443163e-02 -3.57676040e-01 -6.84471644e-04 -2.46291120e-01\n",
      "  -1.17413464e-02  4.55985244e-02  1.85464146e-01  9.20657827e-02\n",
      "   4.32217934e-01]\n",
      " [-1.94801382e-01  3.22813904e-02 -2.35543617e-02 -4.88712212e-02\n",
      "   1.89089232e-01  2.91548068e-01  3.23731297e-02  7.45535010e-02\n",
      "  -2.77668607e-01]\n",
      " [-1.35539892e-02 -9.38750828e-02  3.04272672e-03  4.08316651e-01\n",
      "   7.61162392e-02  6.44569435e-02  1.23126934e-01  5.76027398e-02\n",
      "   1.05942697e-01]\n",
      " [-4.63612243e-02 -2.57720776e-01  3.28998193e-03 -1.18666892e-01\n",
      "  -6.42802049e-02 -1.20899367e-01  2.31037907e-01  4.17804415e-02\n",
      "  -2.06500460e-01]\n",
      " [-2.41218390e-02 -1.36432547e-01  2.05014272e-03  5.18431143e-02\n",
      "   5.80460822e-04  1.83484118e-02 -4.89814009e-01 -1.65869209e-01\n",
      "  -1.43795688e-01]\n",
      " [-2.07732728e-01  5.39852125e-02 -1.41865652e-01  5.38997020e-02\n",
      "  -1.17154194e-01 -2.83237537e-01 -5.69895289e-02  4.63551925e-02\n",
      "   1.47557108e-01]\n",
      " [-4.63612243e-02 -2.57720776e-01  3.28998193e-03 -1.18666892e-01\n",
      "  -6.42802049e-02 -1.20899367e-01  2.31037907e-01  4.17804415e-02\n",
      "  -2.06500460e-01]\n",
      " [-1.35539892e-02 -9.38750828e-02  3.04272672e-03  4.08316651e-01\n",
      "   7.61162392e-02  6.44569435e-02  1.23126934e-01  5.76027398e-02\n",
      "   1.05942697e-01]\n",
      " [-2.07732728e-01  5.39852125e-02 -1.41865652e-01  5.38997020e-02\n",
      "  -1.17154194e-01 -2.83237537e-01 -5.69895289e-02  4.63551925e-02\n",
      "   1.47557108e-01]\n",
      " [-4.02534110e-01  8.62666029e-02 -1.65420014e-01  5.02848075e-03\n",
      "   7.19350383e-02  8.31053071e-03 -2.46163992e-02  1.20908693e-01\n",
      "  -1.30111498e-01]\n",
      " [-2.38084474e-01 -6.76738735e-02 -2.75288152e-02 -1.76495450e-01\n",
      "   2.41628091e-01  4.58045960e-01 -1.32006306e-02  1.24838842e-01\n",
      "   3.61049788e-01]\n",
      " [-2.44699474e-02  7.93623661e-03  1.49466406e-01  2.72548975e-02\n",
      "  -2.96762273e-01  1.22142496e-01 -1.05410147e-01  3.67789601e-01\n",
      "  -4.95915296e-02]\n",
      " [-4.02534110e-01  8.62666029e-02 -1.65420014e-01  5.02848075e-03\n",
      "   7.19350383e-02  8.31053071e-03 -2.46163992e-02  1.20908693e-01\n",
      "  -1.30111498e-01]\n",
      " [-8.40370525e-02 -4.88028405e-01  8.38285137e-03  3.41492873e-01\n",
      "   1.24164951e-02 -3.80940122e-02 -1.35649168e-01 -6.64860278e-02\n",
      "  -2.44353452e-01]\n",
      " [-4.82910244e-01  1.08119726e-01 -6.00063370e-02  3.50216902e-02\n",
      "  -1.62980906e-01  1.50772141e-01  1.12018266e-01 -2.95321311e-01\n",
      "  -8.01127685e-02]\n",
      " [-4.63612243e-02 -2.57720776e-01  3.28998193e-03 -1.18666892e-01\n",
      "  -6.42802049e-02 -1.20899367e-01  2.31037907e-01  4.17804415e-02\n",
      "  -2.06500460e-01]]\n"
     ]
    }
   ],
   "source": [
    "U,sigma,V=np.linalg.svd(A,full_matrices=False,)\n",
    "print(U.shape, sigma.shape, V.shape)\n",
    "print(\"U:\",U)\n",
    "print(\"Sigma:\",sigma)\n",
    "print(\"V already transposed:\",V.T)"
   ]
  },
  {
   "cell_type": "code",
   "execution_count": 131,
   "metadata": {},
   "outputs": [
    {
     "name": "stdout",
     "output_type": "stream",
     "text": [
      "[[3.194 0.    0.    0.    0.    0.    0.    0.    0.    0.    0.    0.\n",
      "  0.    0.    0.    0.    0.    0.    0.    0.    0.    0.    0.    0.\n",
      "  0.    0.    0.    0.    0.    0.    0.    0.   ]\n",
      " [0.    3.033 0.    0.    0.    0.    0.    0.    0.    0.    0.    0.\n",
      "  0.    0.    0.    0.    0.    0.    0.    0.    0.    0.    0.    0.\n",
      "  0.    0.    0.    0.    0.    0.    0.    0.   ]\n",
      " [0.    0.    2.599 0.    0.    0.    0.    0.    0.    0.    0.    0.\n",
      "  0.    0.    0.    0.    0.    0.    0.    0.    0.    0.    0.    0.\n",
      "  0.    0.    0.    0.    0.    0.    0.    0.   ]\n",
      " [0.    0.    0.    2.199 0.    0.    0.    0.    0.    0.    0.    0.\n",
      "  0.    0.    0.    0.    0.    0.    0.    0.    0.    0.    0.    0.\n",
      "  0.    0.    0.    0.    0.    0.    0.    0.   ]\n",
      " [0.    0.    0.    0.    2.04  0.    0.    0.    0.    0.    0.    0.\n",
      "  0.    0.    0.    0.    0.    0.    0.    0.    0.    0.    0.    0.\n",
      "  0.    0.    0.    0.    0.    0.    0.    0.   ]\n",
      " [0.    0.    0.    0.    0.    1.846 0.    0.    0.    0.    0.    0.\n",
      "  0.    0.    0.    0.    0.    0.    0.    0.    0.    0.    0.    0.\n",
      "  0.    0.    0.    0.    0.    0.    0.    0.   ]\n",
      " [0.    0.    0.    0.    0.    0.    1.702 0.    0.    0.    0.    0.\n",
      "  0.    0.    0.    0.    0.    0.    0.    0.    0.    0.    0.    0.\n",
      "  0.    0.    0.    0.    0.    0.    0.    0.   ]\n",
      " [0.    0.    0.    0.    0.    0.    0.    1.687 0.    0.    0.    0.\n",
      "  0.    0.    0.    0.    0.    0.    0.    0.    0.    0.    0.    0.\n",
      "  0.    0.    0.    0.    0.    0.    0.    0.   ]\n",
      " [0.    0.    0.    0.    0.    0.    0.    0.    1.301 0.    0.    0.\n",
      "  0.    0.    0.    0.    0.    0.    0.    0.    0.    0.    0.    0.\n",
      "  0.    0.    0.    0.    0.    0.    0.    0.   ]]\n"
     ]
    }
   ],
   "source": [
    "sigma_dia=np.zeros((9,32))\n",
    "np.fill_diagonal(sigma_dia,sigma)\n",
    "print(np.round(sigma_dia,3))"
   ]
  },
  {
   "cell_type": "code",
   "execution_count": 133,
   "metadata": {},
   "outputs": [
    {
     "data": {
      "text/plain": [
       "array([[ 1.,  1., -0.,  1., -0., -0.,  0., -0., -0.,  1.,  1., -0.,  0.,\n",
       "         1., -0.,  0.,  0., -0., -0.,  0., -0.,  0.,  0., -0.,  0.,  0.,\n",
       "        -0., -0.,  0.,  0., -0.,  0.],\n",
       "       [-0.,  0.,  0.,  1.,  0.,  0.,  0.,  0.,  0.,  0.,  0., -0.,  0.,\n",
       "        -0.,  0.,  0.,  0.,  1.,  0.,  0., -0.,  0.,  0.,  0.,  0.,  1.,\n",
       "         1.,  0.,  1., -0.,  1.,  0.],\n",
       "       [-0., -0., -0.,  0.,  0.,  1., -0., -0.,  0., -0.,  1.,  0.,  0.,\n",
       "        -0.,  1., -0.,  0.,  0., -0.,  0.,  0., -0.,  0., -0., -0.,  0.,\n",
       "         0.,  0.,  0.,  0.,  1.,  0.],\n",
       "       [-0., -0.,  0.,  0.,  1.,  1., -0.,  0.,  0.,  1., -0.,  0., -0.,\n",
       "        -0.,  0., -0.,  0.,  0.,  0., -0.,  0., -0., -0.,  0., -0.,  0.,\n",
       "         0.,  1.,  0.,  0.,  0., -0.],\n",
       "       [-0., -0., -0.,  0., -0., -0.,  1., -0.,  0., -0., -0.,  0.,  0.,\n",
       "        -0.,  0.,  1.,  0.,  0., -0.,  0.,  0.,  1.,  0., -0.,  1.,  1.,\n",
       "         0., -0.,  1.,  0.,  1.,  0.],\n",
       "       [ 0.,  0.,  1.,  0., -0., -0.,  0.,  1., -0.,  0.,  0.,  0.,  0.,\n",
       "         0., -0.,  0., -0., -0.,  1.,  0.,  0.,  0.,  0.,  1.,  0.,  0.,\n",
       "        -0., -0.,  0.,  1., -0.,  0.],\n",
       "       [ 0.,  0., -0.,  0.,  0.,  0.,  0., -0.,  1.,  0.,  0.,  1., -0.,\n",
       "         0., -0.,  0., -0., -0., -0., -0.,  1.,  0., -0., -0.,  0.,  0.,\n",
       "        -0.,  0.,  0.,  1., -0., -0.],\n",
       "       [-0., -0.,  0.,  0.,  0.,  0.,  0., -0.,  1.,  0.,  0., -0.,  1.,\n",
       "        -0.,  0., -0.,  1.,  0.,  0.,  1., -0., -0.,  1.,  0., -0., -0.,\n",
       "         0.,  0., -0.,  1.,  0.,  1.],\n",
       "       [ 0.,  0., -0.,  0., -0., -0., -0.,  0.,  1.,  0., -0., -0., -0.,\n",
       "         0., -0., -0.,  1.,  0., -0., -0., -0., -0., -0., -0., -0.,  0.,\n",
       "         1., -0.,  0., -0., -0., -0.]])"
      ]
     },
     "execution_count": 133,
     "metadata": {},
     "output_type": "execute_result"
    }
   ],
   "source": [
    "#reconstruction by using first 9 components because first 9 diagonals are non-zero, rest are zero\n",
    "U_2=U[:,0:9]\n",
    "sigma_r=sigma_dia[0:9,0:9] \n",
    "V_2=V[0:9,:]\n",
    "np.round(np.dot(U_2,np.dot(sigma_r,V_2)),9) # able to reconstruct original data without any error when considered only non-zero columns"
   ]
  },
  {
   "cell_type": "markdown",
   "metadata": {},
   "source": [
    "# Part 02 question 05\n",
    "Consider the martix A =[[1,3,6],[2,1,4],[1,0,3]] <br>\n",
    "<b> a. Find the principal components, after standardizing A </b>"
   ]
  },
  {
   "cell_type": "code",
   "execution_count": 22,
   "metadata": {},
   "outputs": [
    {
     "name": "stdout",
     "output_type": "stream",
     "text": [
      "C= [[ 4.07142857 -1.71428571 -2.35714286]\n",
      " [-1.71428571  2.14285714 -0.42857143]\n",
      " [-2.35714286 -0.42857143  2.78571429]]\n"
     ]
    },
    {
     "data": {
      "text/plain": [
       "(array([6.20084013e+00, 1.66533454e-16, 2.79915987e+00]),\n",
       " array([[-0.8051731 ,  0.57735027,  0.13550992],\n",
       "        [ 0.28523152,  0.57735027, -0.76505532],\n",
       "        [ 0.51994159,  0.57735027,  0.6295454 ]]))"
      ]
     },
     "execution_count": 22,
     "metadata": {},
     "output_type": "execute_result"
    }
   ],
   "source": [
    "A=np.array([[1,3,6],[2,1,4],[1,0,3]])\n",
    "As=(A-A.mean(axis=0))/A.std(axis=0)\n",
    "C=np.dot(As,As.T)\n",
    "print(\"C=\",C)\n",
    "eig_v,eig_vec=np.linalg.eig(C)\n",
    "eig_v, eig_vec"
   ]
  },
  {
   "cell_type": "markdown",
   "metadata": {},
   "source": [
    "<b> b. Find the principal components, after subtracting the mean from A </b>"
   ]
  },
  {
   "cell_type": "code",
   "execution_count": 25,
   "metadata": {},
   "outputs": [
    {
     "name": "stdout",
     "output_type": "stream",
     "text": [
      "C= [[ 5.66666667 -1.33333333 -4.33333333]\n",
      " [-1.33333333  0.66666667  0.66666667]\n",
      " [-4.33333333  0.66666667  3.66666667]]\n"
     ]
    },
    {
     "data": {
      "text/plain": [
       "(array([9.35889894e+00, 4.13280230e-16, 6.41101056e-01]),\n",
       " array([[-0.77523224,  0.57735027,  0.2562843 ],\n",
       "        [ 0.1656674 ,  0.57735027, -0.79951296],\n",
       "        [ 0.60956484,  0.57735027,  0.54322866]]))"
      ]
     },
     "execution_count": 25,
     "metadata": {},
     "output_type": "execute_result"
    }
   ],
   "source": [
    "A=np.array([[1,3,6],[2,1,4],[1,0,3]])\n",
    "As=(A-A.mean(axis=0))\n",
    "C=np.dot(As,As.T)\n",
    "print(\"C=\",C)\n",
    "eig_v,eig_vec=np.linalg.eig(C)\n",
    "eig_v, eig_vec"
   ]
  },
  {
   "cell_type": "markdown",
   "metadata": {},
   "source": [
    "<b> c. Compare the results, and share the insights. </b> <br><br>\n",
    "Although the eigen values are different, but the sequence for the selection of Principal components remains same, i.e., <br> 1st-eigen-value > 3rd-eigen-value > 2nd-eigen-value <br>\n",
    "However, <br>\n",
    "a)standardizing A - 1st principal component captures 62% varience and 2nd principal component captures 27% varience. <br>\n",
    "b)subtracting the mean from A -  1st principal component captures 93% varience and 2nd principal component captures 6% varience. <br>\n",
    "\n",
    "Using only 1st principal component in (b) we can reconstruct easily but in (a) we have to use at least 1st and 2nd both principal components for recontruction. "
   ]
  },
  {
   "cell_type": "markdown",
   "metadata": {},
   "source": [
    "# Bonus Task"
   ]
  },
  {
   "cell_type": "code",
   "execution_count": 32,
   "metadata": {},
   "outputs": [],
   "source": [
    "import pylab as pl\n",
    "\n",
    "from sklearn import datasets\n",
    "from sklearn.decomposition import PCA"
   ]
  },
  {
   "cell_type": "code",
   "execution_count": 33,
   "metadata": {},
   "outputs": [],
   "source": [
    "iris = datasets.load_iris()\n",
    "\n",
    "X = iris.data\n",
    "y = iris.target\n",
    "target_names = iris.target_names\n"
   ]
  },
  {
   "cell_type": "markdown",
   "metadata": {},
   "source": [
    "### PCA with 2 principal components"
   ]
  },
  {
   "cell_type": "code",
   "execution_count": 34,
   "metadata": {},
   "outputs": [],
   "source": [
    "pca = PCA(n_components=2)\n",
    "X_r = pca.fit(X).transform(X)"
   ]
  },
  {
   "cell_type": "code",
   "execution_count": 64,
   "metadata": {},
   "outputs": [
    {
     "name": "stdout",
     "output_type": "stream",
     "text": [
      "explained variance ratio (first two components): [0.92461872 0.05306648]\n"
     ]
    }
   ],
   "source": [
    "# Percentage of variance explained for each components\n",
    "print(\n",
    "    \"explained variance ratio (first two components): %s\"\n",
    "    % str(pca.explained_variance_ratio_)\n",
    ")\n",
    "\n"
   ]
  },
  {
   "cell_type": "code",
   "execution_count": 65,
   "metadata": {},
   "outputs": [],
   "source": [
    "def plot3clusters(X, title, vtitle):\n",
    "  plt.figure()\n",
    "  colors = ['navy', 'turquoise', 'darkorange']\n",
    "  lw = 2\n",
    "\n",
    "  for color, i, target_name in zip(colors, [0, 1, 2], target_names):\n",
    "      plt.scatter(X[y == i, 0], X[y == i, 1], color=color, alpha=1., lw=lw,\n",
    "                  label=target_name)\n",
    "  plt.legend(loc='best', shadow=False, scatterpoints=1)\n",
    "  plt.title(title)  \n",
    "  plt.xlabel(vtitle + \"1\")\n",
    "  plt.ylabel(vtitle + \"2\")\n",
    "  plt.show()"
   ]
  },
  {
   "cell_type": "code",
   "execution_count": 68,
   "metadata": {},
   "outputs": [
    {
     "data": {
      "image/png": "[encoded data removed]",
      "text/plain": [
       "<Figure size 432x288 with 1 Axes>"
      ]
     },
     "metadata": {},
     "output_type": "display_data"
    }
   ],
   "source": [
    "plot3clusters(X_r[:,:2], 'PCA', 'PC')  "
   ]
  },
  {
   "cell_type": "markdown",
   "metadata": {},
   "source": [
    "### Linear Auto Encoder"
   ]
  },
  {
   "cell_type": "code",
   "execution_count": 45,
   "metadata": {},
   "outputs": [],
   "source": [
    "\n",
    "from tensorflow.keras.models import Model, load_model\n",
    "from tensorflow.keras.layers import Input, Dense\n",
    "from tensorflow.keras.callbacks import ModelCheckpoint"
   ]
  },
  {
   "cell_type": "code",
   "execution_count": 72,
   "metadata": {},
   "outputs": [
    {
     "name": "stdout",
     "output_type": "stream",
     "text": [
      "Model: \"model_12\"\n",
      "_________________________________________________________________\n",
      "Layer (type)                 Output Shape              Param #   \n",
      "=================================================================\n",
      "input_13 (InputLayer)        [(None, 4)]               0         \n",
      "_________________________________________________________________\n",
      "dense_24 (Dense)             (None, 2)                 10        \n",
      "_________________________________________________________________\n",
      "dense_25 (Dense)             (None, 4)                 12        \n",
      "=================================================================\n",
      "Total params: 22\n",
      "Trainable params: 22\n",
      "Non-trainable params: 0\n",
      "_________________________________________________________________\n",
      "None\n",
      "Train on 135 samples, validate on 15 samples\n",
      "Epoch 1/100\n",
      "135/135 [==============================] - 1s 4ms/sample - loss: 14.4704 - val_loss: 20.6343\n",
      "Epoch 2/100\n",
      "135/135 [==============================] - 0s 170us/sample - loss: 13.9800 - val_loss: 20.0057\n",
      "Epoch 3/100\n",
      "135/135 [==============================] - 0s 200us/sample - loss: 13.5161 - val_loss: 19.4067\n",
      "Epoch 4/100\n",
      "135/135 [==============================] - 0s 222us/sample - loss: 13.0670 - val_loss: 18.8418\n",
      "Epoch 5/100\n",
      "135/135 [==============================] - 0s 185us/sample - loss: 12.6433 - val_loss: 18.2990\n",
      "Epoch 6/100\n",
      "135/135 [==============================] - 0s 200us/sample - loss: 12.2413 - val_loss: 17.7855\n",
      "Epoch 7/100\n",
      "135/135 [==============================] - 0s 192us/sample - loss: 11.8606 - val_loss: 17.3036\n",
      "Epoch 8/100\n",
      "135/135 [==============================] - 0s 178us/sample - loss: 11.5064 - val_loss: 16.8440\n",
      "Epoch 9/100\n",
      "135/135 [==============================] - 0s 192us/sample - loss: 11.1648 - val_loss: 16.4128\n",
      "Epoch 10/100\n",
      "135/135 [==============================] - 0s 267us/sample - loss: 10.8432 - val_loss: 16.0040\n",
      "Epoch 11/100\n",
      "135/135 [==============================] - 0s 259us/sample - loss: 10.5430 - val_loss: 15.6163\n",
      "Epoch 12/100\n",
      "135/135 [==============================] - 0s 266us/sample - loss: 10.2549 - val_loss: 15.2491\n",
      "Epoch 13/100\n",
      "135/135 [==============================] - 0s 222us/sample - loss: 9.9868 - val_loss: 14.9031\n",
      "Epoch 14/100\n",
      "135/135 [==============================] - 0s 193us/sample - loss: 9.7316 - val_loss: 14.5767\n",
      "Epoch 15/100\n",
      "135/135 [==============================] - 0s 215us/sample - loss: 9.4951 - val_loss: 14.2696\n",
      "Epoch 16/100\n",
      "135/135 [==============================] - 0s 185us/sample - loss: 9.2650 - val_loss: 13.9866\n",
      "Epoch 17/100\n",
      "135/135 [==============================] - 0s 222us/sample - loss: 9.0529 - val_loss: 13.7162\n",
      "Epoch 18/100\n",
      "135/135 [==============================] - 0s 178us/sample - loss: 8.8518 - val_loss: 13.4577\n",
      "Epoch 19/100\n",
      "135/135 [==============================] - 0s 224us/sample - loss: 8.6588 - val_loss: 13.2121\n",
      "Epoch 20/100\n",
      "135/135 [==============================] - 0s 230us/sample - loss: 8.4736 - val_loss: 12.9739\n",
      "Epoch 21/100\n",
      "135/135 [==============================] - 0s 200us/sample - loss: 8.2945 - val_loss: 12.7511\n",
      "Epoch 22/100\n",
      "135/135 [==============================] - 0s 185us/sample - loss: 8.1237 - val_loss: 12.5379\n",
      "Epoch 23/100\n",
      "135/135 [==============================] - 0s 215us/sample - loss: 7.9608 - val_loss: 12.3314\n",
      "Epoch 24/100\n",
      "135/135 [==============================] - 0s 207us/sample - loss: 7.8067 - val_loss: 12.1339\n",
      "Epoch 25/100\n",
      "135/135 [==============================] - 0s 185us/sample - loss: 7.6554 - val_loss: 11.9420\n",
      "Epoch 26/100\n",
      "135/135 [==============================] - 0s 207us/sample - loss: 7.5086 - val_loss: 11.7561\n",
      "Epoch 27/100\n",
      "135/135 [==============================] - 0s 200us/sample - loss: 7.3682 - val_loss: 11.5740\n",
      "Epoch 28/100\n",
      "135/135 [==============================] - 0s 200us/sample - loss: 7.2295 - val_loss: 11.3995\n",
      "Epoch 29/100\n",
      "135/135 [==============================] - 0s 215us/sample - loss: 7.0968 - val_loss: 11.2262\n",
      "Epoch 30/100\n",
      "135/135 [==============================] - 0s 193us/sample - loss: 6.9656 - val_loss: 11.0587\n",
      "Epoch 31/100\n",
      "135/135 [==============================] - 0s 192us/sample - loss: 6.8365 - val_loss: 10.8964\n",
      "Epoch 32/100\n",
      "135/135 [==============================] - 0s 207us/sample - loss: 6.7131 - val_loss: 10.7306\n",
      "Epoch 33/100\n",
      "135/135 [==============================] - 0s 222us/sample - loss: 6.5903 - val_loss: 10.5662\n",
      "Epoch 34/100\n",
      "135/135 [==============================] - 0s 252us/sample - loss: 6.4708 - val_loss: 10.4024\n",
      "Epoch 35/100\n",
      "135/135 [==============================] - 0s 215us/sample - loss: 6.3523 - val_loss: 10.2499\n",
      "Epoch 36/100\n",
      "135/135 [==============================] - 0s 200us/sample - loss: 6.2381 - val_loss: 10.1070\n",
      "Epoch 37/100\n",
      "135/135 [==============================] - 0s 207us/sample - loss: 6.1257 - val_loss: 9.9676\n",
      "Epoch 38/100\n",
      "135/135 [==============================] - 0s 192us/sample - loss: 6.0167 - val_loss: 9.8246\n",
      "Epoch 39/100\n",
      "135/135 [==============================] - 0s 185us/sample - loss: 5.9075 - val_loss: 9.6767\n",
      "Epoch 40/100\n",
      "135/135 [==============================] - 0s 215us/sample - loss: 5.7973 - val_loss: 9.5222\n",
      "Epoch 41/100\n",
      "135/135 [==============================] - 0s 222us/sample - loss: 5.6925 - val_loss: 9.3683\n",
      "Epoch 42/100\n",
      "135/135 [==============================] - 0s 215us/sample - loss: 5.5864 - val_loss: 9.2226\n",
      "Epoch 43/100\n",
      "135/135 [==============================] - 0s 178us/sample - loss: 5.4835 - val_loss: 9.0776\n",
      "Epoch 44/100\n",
      "135/135 [==============================] - 0s 192us/sample - loss: 5.3803 - val_loss: 8.9290\n",
      "Epoch 45/100\n",
      "135/135 [==============================] - 0s 215us/sample - loss: 5.2792 - val_loss: 8.7817\n",
      "Epoch 46/100\n",
      "135/135 [==============================] - 0s 244us/sample - loss: 5.1782 - val_loss: 8.6401\n",
      "Epoch 47/100\n",
      "135/135 [==============================] - 0s 237us/sample - loss: 5.0823 - val_loss: 8.5009\n",
      "Epoch 48/100\n",
      "135/135 [==============================] - 0s 192us/sample - loss: 4.9840 - val_loss: 8.3663\n",
      "Epoch 49/100\n",
      "135/135 [==============================] - 0s 341us/sample - loss: 4.8907 - val_loss: 8.2273\n",
      "Epoch 50/100\n",
      "135/135 [==============================] - 0s 185us/sample - loss: 4.7975 - val_loss: 8.0945\n",
      "Epoch 51/100\n",
      "135/135 [==============================] - 0s 178us/sample - loss: 4.7058 - val_loss: 7.9645\n",
      "Epoch 52/100\n",
      "135/135 [==============================] - 0s 200us/sample - loss: 4.6157 - val_loss: 7.8419\n",
      "Epoch 53/100\n",
      "135/135 [==============================] - 0s 188us/sample - loss: 4.5277 - val_loss: 7.7193\n",
      "Epoch 54/100\n",
      "135/135 [==============================] - 0s 170us/sample - loss: 4.4400 - val_loss: 7.5915\n",
      "Epoch 55/100\n",
      "135/135 [==============================] - 0s 200us/sample - loss: 4.3526 - val_loss: 7.4639\n",
      "Epoch 56/100\n",
      "135/135 [==============================] - 0s 178us/sample - loss: 4.2656 - val_loss: 7.3315\n",
      "Epoch 57/100\n",
      "135/135 [==============================] - 0s 178us/sample - loss: 4.1802 - val_loss: 7.2060\n",
      "Epoch 58/100\n",
      "135/135 [==============================] - 0s 185us/sample - loss: 4.0962 - val_loss: 7.0822\n",
      "Epoch 59/100\n",
      "135/135 [==============================] - 0s 200us/sample - loss: 4.0153 - val_loss: 6.9569\n",
      "Epoch 60/100\n",
      "135/135 [==============================] - 0s 178us/sample - loss: 3.9335 - val_loss: 6.8392\n",
      "Epoch 61/100\n",
      "135/135 [==============================] - 0s 192us/sample - loss: 3.8567 - val_loss: 6.7099\n",
      "Epoch 62/100\n",
      "135/135 [==============================] - 0s 192us/sample - loss: 3.7748 - val_loss: 6.5860\n",
      "Epoch 63/100\n",
      "135/135 [==============================] - 0s 185us/sample - loss: 3.6968 - val_loss: 6.4670\n",
      "Epoch 64/100\n",
      "135/135 [==============================] - 0s 207us/sample - loss: 3.6195 - val_loss: 6.3479\n",
      "Epoch 65/100\n",
      "135/135 [==============================] - 0s 222us/sample - loss: 3.5451 - val_loss: 6.2276\n",
      "Epoch 66/100\n",
      "135/135 [==============================] - 0s 178us/sample - loss: 3.4696 - val_loss: 6.1145\n",
      "Epoch 67/100\n",
      "135/135 [==============================] - 0s 207us/sample - loss: 3.3981 - val_loss: 6.0033\n",
      "Epoch 68/100\n",
      "135/135 [==============================] - 0s 178us/sample - loss: 3.3247 - val_loss: 5.8934\n",
      "Epoch 69/100\n",
      "135/135 [==============================] - 0s 185us/sample - loss: 3.2552 - val_loss: 5.7837\n",
      "Epoch 70/100\n",
      "135/135 [==============================] - 0s 185us/sample - loss: 3.1857 - val_loss: 5.6737\n",
      "Epoch 71/100\n",
      "135/135 [==============================] - 0s 215us/sample - loss: 3.1170 - val_loss: 5.5667\n",
      "Epoch 72/100\n",
      "135/135 [==============================] - 0s 155us/sample - loss: 3.0485 - val_loss: 5.4596\n",
      "Epoch 73/100\n",
      "135/135 [==============================] - 0s 178us/sample - loss: 2.9832 - val_loss: 5.3521\n",
      "Epoch 74/100\n",
      "135/135 [==============================] - 0s 170us/sample - loss: 2.9175 - val_loss: 5.2460\n",
      "Epoch 75/100\n",
      "135/135 [==============================] - 0s 178us/sample - loss: 2.8507 - val_loss: 5.1425\n",
      "Epoch 76/100\n",
      "135/135 [==============================] - 0s 178us/sample - loss: 2.7897 - val_loss: 5.0322\n",
      "Epoch 77/100\n",
      "135/135 [==============================] - 0s 170us/sample - loss: 2.7259 - val_loss: 4.9287\n",
      "Epoch 78/100\n",
      "135/135 [==============================] - 0s 178us/sample - loss: 2.6656 - val_loss: 4.8255\n",
      "Epoch 79/100\n",
      "135/135 [==============================] - 0s 178us/sample - loss: 2.6031 - val_loss: 4.7316\n",
      "Epoch 80/100\n",
      "135/135 [==============================] - 0s 163us/sample - loss: 2.5464 - val_loss: 4.6349\n",
      "Epoch 81/100\n",
      "135/135 [==============================] - 0s 170us/sample - loss: 2.4885 - val_loss: 4.5408\n",
      "Epoch 82/100\n",
      "135/135 [==============================] - 0s 148us/sample - loss: 2.4332 - val_loss: 4.4444\n",
      "Epoch 83/100\n",
      "135/135 [==============================] - 0s 170us/sample - loss: 2.3770 - val_loss: 4.3539\n",
      "Epoch 84/100\n",
      "135/135 [==============================] - 0s 163us/sample - loss: 2.3253 - val_loss: 4.2603\n",
      "Epoch 85/100\n",
      "135/135 [==============================] - 0s 178us/sample - loss: 2.2712 - val_loss: 4.1727\n",
      "Epoch 86/100\n",
      "135/135 [==============================] - 0s 170us/sample - loss: 2.2204 - val_loss: 4.0883\n",
      "Epoch 87/100\n",
      "135/135 [==============================] - 0s 170us/sample - loss: 2.1707 - val_loss: 4.0014\n",
      "Epoch 88/100\n",
      "135/135 [==============================] - 0s 155us/sample - loss: 2.1216 - val_loss: 3.9164\n",
      "Epoch 89/100\n",
      "135/135 [==============================] - 0s 178us/sample - loss: 2.0733 - val_loss: 3.8328\n",
      "Epoch 90/100\n",
      "135/135 [==============================] - 0s 155us/sample - loss: 2.0261 - val_loss: 3.7475\n",
      "Epoch 91/100\n",
      "135/135 [==============================] - 0s 170us/sample - loss: 1.9798 - val_loss: 3.6630\n",
      "Epoch 92/100\n",
      "135/135 [==============================] - 0s 163us/sample - loss: 1.9330 - val_loss: 3.5791\n",
      "Epoch 93/100\n",
      "135/135 [==============================] - 0s 155us/sample - loss: 1.8861 - val_loss: 3.4966\n",
      "Epoch 94/100\n",
      "135/135 [==============================] - 0s 170us/sample - loss: 1.8429 - val_loss: 3.4095\n",
      "Epoch 95/100\n",
      "135/135 [==============================] - 0s 155us/sample - loss: 1.7985 - val_loss: 3.3252\n",
      "Epoch 96/100\n",
      "135/135 [==============================] - 0s 178us/sample - loss: 1.7553 - val_loss: 3.2433\n",
      "Epoch 97/100\n",
      "135/135 [==============================] - 0s 155us/sample - loss: 1.7129 - val_loss: 3.1650\n",
      "Epoch 98/100\n",
      "135/135 [==============================] - 0s 170us/sample - loss: 1.6726 - val_loss: 3.0883\n",
      "Epoch 99/100\n",
      "135/135 [==============================] - 0s 163us/sample - loss: 1.6329 - val_loss: 3.0099\n",
      "Epoch 100/100\n",
      "135/135 [==============================] - 0s 170us/sample - loss: 1.5933 - val_loss: 2.9328\n"
     ]
    }
   ],
   "source": [
    "input_size = 4\n",
    "hidden_size = 2\n",
    "\n",
    "\n",
    "input_img = Input(shape=(input_size,))\n",
    "hidden_1 = Dense(hidden_size, activation='linear')(input_img)\n",
    "output_img = Dense(input_size, activation='linear')(hidden_1)\n",
    "\n",
    "autoencoder = Model(input_img, output_img)\n",
    "autoencoder.compile(optimizer='adam', loss='mse')\n",
    "print(autoencoder.summary())\n",
    "history=autoencoder.fit(X, X, epochs=100, shuffle=True,validation_split=0.1)"
   ]
  },
  {
   "cell_type": "code",
   "execution_count": 73,
   "metadata": {},
   "outputs": [
    {
     "data": {
      "image/png": "[encoded data removed]",
      "text/plain": [
       "<Figure size 432x288 with 1 Axes>"
      ]
     },
     "metadata": {},
     "output_type": "display_data"
    }
   ],
   "source": [
    "#plot our loss \n",
    "plt.plot(history.history['loss'])\n",
    "plt.plot(history.history['val_loss'])\n",
    "plt.title('model train vs validation loss')\n",
    "plt.ylabel('loss')\n",
    "plt.xlabel('epoch')\n",
    "plt.legend(['train', 'validation'], loc='upper right')\n",
    "plt.show()\n"
   ]
  },
  {
   "cell_type": "code",
   "execution_count": 74,
   "metadata": {},
   "outputs": [],
   "source": [
    "reconstructed = autoencoder.predict(X)"
   ]
  },
  {
   "cell_type": "code",
   "execution_count": 75,
   "metadata": {},
   "outputs": [
    {
     "data": {
      "image/png": "[encoded data removed]",
      "text/plain": [
       "<Figure size 432x288 with 1 Axes>"
      ]
     },
     "metadata": {},
     "output_type": "display_data"
    }
   ],
   "source": [
    "plot3clusters(reconstructed[:,:2], 'Linear AE', 'AE')  "
   ]
  },
  {
   "cell_type": "code",
   "execution_count": 83,
   "metadata": {},
   "outputs": [
    {
     "name": "stdout",
     "output_type": "stream",
     "text": [
      "[0.09467077 0.03580555]\n"
     ]
    }
   ],
   "source": [
    "print(autoencoder.layers[1].get_weights()[1])"
   ]
  },
  {
   "cell_type": "code",
   "execution_count": 84,
   "metadata": {},
   "outputs": [
    {
     "data": {
      "text/plain": [
       "[array([[ 0.2952147 , -0.9404026 ],\n",
       "        [ 1.0238974 , -0.24293329],\n",
       "        [-0.19882023, -0.11443227],\n",
       "        [-0.35858548,  0.04426283]], dtype=float32),\n",
       " array([0.09467077, 0.03580555], dtype=float32),\n",
       " array([[ 0.52319115,  0.5576858 ,  0.04975379, -0.82215935],\n",
       "        [-0.5873937 , -0.12176782, -0.19608827, -0.68189144]],\n",
       "       dtype=float32),\n",
       " array([ 0.11529247,  0.23609747,  0.39583293, -0.12399621], dtype=float32)]"
      ]
     },
     "execution_count": 84,
     "metadata": {},
     "output_type": "execute_result"
    }
   ],
   "source": [
    "autoencoder.get_weights()"
   ]
  },
  {
   "cell_type": "markdown",
   "metadata": {},
   "source": [
    "### Non-linear Autoencoder"
   ]
  },
  {
   "cell_type": "code",
   "execution_count": 85,
   "metadata": {},
   "outputs": [
    {
     "name": "stdout",
     "output_type": "stream",
     "text": [
      "Model: \"model_13\"\n",
      "_________________________________________________________________\n",
      "Layer (type)                 Output Shape              Param #   \n",
      "=================================================================\n",
      "input_13 (InputLayer)        [(None, 4)]               0         \n",
      "_________________________________________________________________\n",
      "dense_24 (Dense)             (None, 2)                 10        \n",
      "_________________________________________________________________\n",
      "dense_25 (Dense)             (None, 4)                 12        \n",
      "=================================================================\n",
      "Total params: 22\n",
      "Trainable params: 22\n",
      "Non-trainable params: 0\n",
      "_________________________________________________________________\n",
      "None\n",
      "Train on 135 samples, validate on 15 samples\n",
      "Epoch 1/100\n",
      "135/135 [==============================] - 0s 3ms/sample - loss: 1.5443 - val_loss: 2.7950\n",
      "Epoch 2/100\n",
      "135/135 [==============================] - 0s 244us/sample - loss: 1.4747 - val_loss: 2.6644\n",
      "Epoch 3/100\n",
      "135/135 [==============================] - 0s 214us/sample - loss: 1.4112 - val_loss: 2.5409\n",
      "Epoch 4/100\n",
      "135/135 [==============================] - 0s 192us/sample - loss: 1.3505 - val_loss: 2.4197\n",
      "Epoch 5/100\n",
      "135/135 [==============================] - 0s 215us/sample - loss: 1.2914 - val_loss: 2.3022\n",
      "Epoch 6/100\n",
      "135/135 [==============================] - 0s 244us/sample - loss: 1.2342 - val_loss: 2.1895\n",
      "Epoch 7/100\n",
      "135/135 [==============================] - 0s 200us/sample - loss: 1.1786 - val_loss: 2.0714\n",
      "Epoch 8/100\n",
      "135/135 [==============================] - 0s 229us/sample - loss: 1.1269 - val_loss: 1.9535\n",
      "Epoch 9/100\n",
      "135/135 [==============================] - 0s 207us/sample - loss: 1.0772 - val_loss: 1.8423\n",
      "Epoch 10/100\n",
      "135/135 [==============================] - 0s 207us/sample - loss: 1.0280 - val_loss: 1.7414\n",
      "Epoch 11/100\n",
      "135/135 [==============================] - 0s 237us/sample - loss: 0.9848 - val_loss: 1.6444\n",
      "Epoch 12/100\n",
      "135/135 [==============================] - 0s 222us/sample - loss: 0.9448 - val_loss: 1.5509\n",
      "Epoch 13/100\n",
      "135/135 [==============================] - 0s 230us/sample - loss: 0.9063 - val_loss: 1.4639\n",
      "Epoch 14/100\n",
      "135/135 [==============================] - 0s 222us/sample - loss: 0.8718 - val_loss: 1.3871\n",
      "Epoch 15/100\n",
      "135/135 [==============================] - 0s 244us/sample - loss: 0.8404 - val_loss: 1.3094\n",
      "Epoch 16/100\n",
      "135/135 [==============================] - 0s 244us/sample - loss: 0.8121 - val_loss: 1.2309\n",
      "Epoch 17/100\n",
      "135/135 [==============================] - 0s 155us/sample - loss: 0.7847 - val_loss: 1.1603\n",
      "Epoch 18/100\n",
      "135/135 [==============================] - 0s 200us/sample - loss: 0.7601 - val_loss: 1.0940\n",
      "Epoch 19/100\n",
      "135/135 [==============================] - 0s 237us/sample - loss: 0.7367 - val_loss: 1.0367\n",
      "Epoch 20/100\n",
      "135/135 [==============================] - 0s 274us/sample - loss: 0.7181 - val_loss: 0.9857\n",
      "Epoch 21/100\n",
      "135/135 [==============================] - 0s 237us/sample - loss: 0.7005 - val_loss: 0.9387\n",
      "Epoch 22/100\n",
      "135/135 [==============================] - 0s 230us/sample - loss: 0.6853 - val_loss: 0.8944\n",
      "Epoch 23/100\n",
      "135/135 [==============================] - 0s 237us/sample - loss: 0.6713 - val_loss: 0.8498\n",
      "Epoch 24/100\n",
      "135/135 [==============================] - 0s 237us/sample - loss: 0.6578 - val_loss: 0.8131\n",
      "Epoch 25/100\n",
      "135/135 [==============================] - 0s 237us/sample - loss: 0.6467 - val_loss: 0.7790\n",
      "Epoch 26/100\n",
      "135/135 [==============================] - 0s 244us/sample - loss: 0.6361 - val_loss: 0.7468\n",
      "Epoch 27/100\n",
      "135/135 [==============================] - 0s 192us/sample - loss: 0.6271 - val_loss: 0.7134\n",
      "Epoch 28/100\n",
      "135/135 [==============================] - 0s 244us/sample - loss: 0.6170 - val_loss: 0.6829\n",
      "Epoch 29/100\n",
      "135/135 [==============================] - 0s 200us/sample - loss: 0.6091 - val_loss: 0.6526\n",
      "Epoch 30/100\n",
      "135/135 [==============================] - 0s 230us/sample - loss: 0.6016 - val_loss: 0.6267\n",
      "Epoch 31/100\n",
      "135/135 [==============================] - 0s 237us/sample - loss: 0.5946 - val_loss: 0.6025\n",
      "Epoch 32/100\n",
      "135/135 [==============================] - 0s 244us/sample - loss: 0.5877 - val_loss: 0.5769\n",
      "Epoch 33/100\n",
      "135/135 [==============================] - 0s 252us/sample - loss: 0.5811 - val_loss: 0.5636\n",
      "Epoch 34/100\n",
      "135/135 [==============================] - 0s 281us/sample - loss: 0.5755 - val_loss: 0.5491\n",
      "Epoch 35/100\n",
      "135/135 [==============================] - 0s 207us/sample - loss: 0.5705 - val_loss: 0.5279\n",
      "Epoch 36/100\n",
      "135/135 [==============================] - 0s 222us/sample - loss: 0.5649 - val_loss: 0.5111\n",
      "Epoch 37/100\n",
      "135/135 [==============================] - 0s 207us/sample - loss: 0.5601 - val_loss: 0.4943\n",
      "Epoch 38/100\n",
      "135/135 [==============================] - 0s 229us/sample - loss: 0.5554 - val_loss: 0.4845\n",
      "Epoch 39/100\n",
      "135/135 [==============================] - 0s 192us/sample - loss: 0.5509 - val_loss: 0.4744\n",
      "Epoch 40/100\n",
      "135/135 [==============================] - 0s 178us/sample - loss: 0.5470 - val_loss: 0.4672\n",
      "Epoch 41/100\n",
      "135/135 [==============================] - 0s 207us/sample - loss: 0.5426 - val_loss: 0.4647\n",
      "Epoch 42/100\n",
      "135/135 [==============================] - ETA: 0s - loss: 0.575 - 0s 230us/sample - loss: 0.5384 - val_loss: 0.4648\n",
      "Epoch 43/100\n",
      "135/135 [==============================] - 0s 207us/sample - loss: 0.5343 - val_loss: 0.4607\n",
      "Epoch 44/100\n",
      "135/135 [==============================] - 0s 178us/sample - loss: 0.5306 - val_loss: 0.4541\n",
      "Epoch 45/100\n",
      "135/135 [==============================] - 0s 207us/sample - loss: 0.5264 - val_loss: 0.4481\n",
      "Epoch 46/100\n",
      "135/135 [==============================] - 0s 274us/sample - loss: 0.5227 - val_loss: 0.4416\n",
      "Epoch 47/100\n",
      "135/135 [==============================] - 0s 252us/sample - loss: 0.5193 - val_loss: 0.4405\n",
      "Epoch 48/100\n",
      "135/135 [==============================] - 0s 237us/sample - loss: 0.5156 - val_loss: 0.4357\n",
      "Epoch 49/100\n",
      "135/135 [==============================] - 0s 259us/sample - loss: 0.5118 - val_loss: 0.4338\n",
      "Epoch 50/100\n",
      "135/135 [==============================] - 0s 185us/sample - loss: 0.5084 - val_loss: 0.4285\n",
      "Epoch 51/100\n",
      "135/135 [==============================] - 0s 170us/sample - loss: 0.5048 - val_loss: 0.4199\n",
      "Epoch 52/100\n",
      "135/135 [==============================] - 0s 348us/sample - loss: 0.5016 - val_loss: 0.4122\n",
      "Epoch 53/100\n",
      "135/135 [==============================] - 0s 207us/sample - loss: 0.4982 - val_loss: 0.4067\n",
      "Epoch 54/100\n",
      "135/135 [==============================] - 0s 185us/sample - loss: 0.4949 - val_loss: 0.4018\n",
      "Epoch 55/100\n",
      "135/135 [==============================] - 0s 185us/sample - loss: 0.4916 - val_loss: 0.4030\n",
      "Epoch 56/100\n",
      "135/135 [==============================] - 0s 207us/sample - loss: 0.4887 - val_loss: 0.4042\n",
      "Epoch 57/100\n",
      "135/135 [==============================] - 0s 230us/sample - loss: 0.4853 - val_loss: 0.4029\n",
      "Epoch 58/100\n",
      "135/135 [==============================] - 0s 229us/sample - loss: 0.4822 - val_loss: 0.4005\n",
      "Epoch 59/100\n",
      "135/135 [==============================] - 0s 215us/sample - loss: 0.4792 - val_loss: 0.3928\n",
      "Epoch 60/100\n",
      "135/135 [==============================] - 0s 222us/sample - loss: 0.4760 - val_loss: 0.3893\n",
      "Epoch 61/100\n",
      "135/135 [==============================] - 0s 215us/sample - loss: 0.4729 - val_loss: 0.3855\n",
      "Epoch 62/100\n",
      "135/135 [==============================] - 0s 289us/sample - loss: 0.4704 - val_loss: 0.3792\n",
      "Epoch 63/100\n",
      "135/135 [==============================] - 0s 207us/sample - loss: 0.4675 - val_loss: 0.3698\n",
      "Epoch 64/100\n",
      "135/135 [==============================] - 0s 229us/sample - loss: 0.4647 - val_loss: 0.3628\n",
      "Epoch 65/100\n",
      "135/135 [==============================] - 0s 237us/sample - loss: 0.4617 - val_loss: 0.3552\n",
      "Epoch 66/100\n",
      "135/135 [==============================] - 0s 252us/sample - loss: 0.4590 - val_loss: 0.3552\n",
      "Epoch 67/100\n",
      "135/135 [==============================] - 0s 341us/sample - loss: 0.4557 - val_loss: 0.3541\n",
      "Epoch 68/100\n",
      "135/135 [==============================] - 0s 252us/sample - loss: 0.4529 - val_loss: 0.3579\n",
      "Epoch 69/100\n",
      "135/135 [==============================] - 0s 267us/sample - loss: 0.4500 - val_loss: 0.3619\n",
      "Epoch 70/100\n",
      "135/135 [==============================] - 0s 237us/sample - loss: 0.4474 - val_loss: 0.3605\n",
      "Epoch 71/100\n",
      "135/135 [==============================] - 0s 326us/sample - loss: 0.4448 - val_loss: 0.3544\n",
      "Epoch 72/100\n",
      "135/135 [==============================] - 0s 237us/sample - loss: 0.4422 - val_loss: 0.3481\n",
      "Epoch 73/100\n",
      "135/135 [==============================] - 0s 222us/sample - loss: 0.4397 - val_loss: 0.3446\n",
      "Epoch 74/100\n",
      "135/135 [==============================] - 0s 237us/sample - loss: 0.4370 - val_loss: 0.3408\n",
      "Epoch 75/100\n",
      "135/135 [==============================] - 0s 237us/sample - loss: 0.4345 - val_loss: 0.3386\n",
      "Epoch 76/100\n",
      "135/135 [==============================] - 0s 237us/sample - loss: 0.4316 - val_loss: 0.3401\n",
      "Epoch 77/100\n",
      "135/135 [==============================] - 0s 229us/sample - loss: 0.4291 - val_loss: 0.3386\n",
      "Epoch 78/100\n",
      "135/135 [==============================] - 0s 207us/sample - loss: 0.4266 - val_loss: 0.3355\n",
      "Epoch 79/100\n",
      "135/135 [==============================] - 0s 200us/sample - loss: 0.4241 - val_loss: 0.3287\n",
      "Epoch 80/100\n",
      "135/135 [==============================] - 0s 200us/sample - loss: 0.4218 - val_loss: 0.3243\n",
      "Epoch 81/100\n",
      "135/135 [==============================] - 0s 185us/sample - loss: 0.4189 - val_loss: 0.3243\n",
      "Epoch 82/100\n",
      "135/135 [==============================] - 0s 163us/sample - loss: 0.4163 - val_loss: 0.3271\n",
      "Epoch 83/100\n",
      "135/135 [==============================] - 0s 178us/sample - loss: 0.4139 - val_loss: 0.3309\n",
      "Epoch 84/100\n",
      "135/135 [==============================] - 0s 163us/sample - loss: 0.4115 - val_loss: 0.3348\n",
      "Epoch 85/100\n",
      "135/135 [==============================] - 0s 170us/sample - loss: 0.4096 - val_loss: 0.3378\n",
      "Epoch 86/100\n",
      "135/135 [==============================] - 0s 178us/sample - loss: 0.4067 - val_loss: 0.3350\n",
      "Epoch 87/100\n",
      "135/135 [==============================] - 0s 170us/sample - loss: 0.4049 - val_loss: 0.3288\n",
      "Epoch 88/100\n",
      "135/135 [==============================] - 0s 163us/sample - loss: 0.4019 - val_loss: 0.3323\n",
      "Epoch 89/100\n",
      "135/135 [==============================] - 0s 163us/sample - loss: 0.3996 - val_loss: 0.3350\n",
      "Epoch 90/100\n",
      "135/135 [==============================] - 0s 244us/sample - loss: 0.3969 - val_loss: 0.3288\n",
      "Epoch 91/100\n",
      "135/135 [==============================] - 0s 222us/sample - loss: 0.3944 - val_loss: 0.3225\n",
      "Epoch 92/100\n",
      "135/135 [==============================] - 0s 237us/sample - loss: 0.3925 - val_loss: 0.3181\n",
      "Epoch 93/100\n",
      "135/135 [==============================] - 0s 192us/sample - loss: 0.3899 - val_loss: 0.3150\n",
      "Epoch 94/100\n",
      "135/135 [==============================] - 0s 215us/sample - loss: 0.3877 - val_loss: 0.3124\n",
      "Epoch 95/100\n",
      "135/135 [==============================] - 0s 192us/sample - loss: 0.3853 - val_loss: 0.3082\n",
      "Epoch 96/100\n",
      "135/135 [==============================] - 0s 192us/sample - loss: 0.3827 - val_loss: 0.3098\n",
      "Epoch 97/100\n",
      "135/135 [==============================] - 0s 185us/sample - loss: 0.3807 - val_loss: 0.3123\n",
      "Epoch 98/100\n",
      "135/135 [==============================] - 0s 207us/sample - loss: 0.3785 - val_loss: 0.3138\n",
      "Epoch 99/100\n",
      "135/135 [==============================] - 0s 222us/sample - loss: 0.3760 - val_loss: 0.3173\n",
      "Epoch 100/100\n",
      "135/135 [==============================] - 0s 207us/sample - loss: 0.3743 - val_loss: 0.3222\n"
     ]
    }
   ],
   "source": [
    "#Non-linear Auto Encoder\n",
    "input_img2 = Input(shape=(input_size,))\n",
    "hidden_12 = Dense(hidden_size, activation='relu')(input_img)\n",
    "output_img2 = Dense(input_size, activation='sigmoid')(hidden_1)\n",
    "\n",
    "autoencoder2 = Model(input_img, output_img)\n",
    "autoencoder2.compile(optimizer='adam', loss='mse')\n",
    "print(autoencoder2.summary())\n",
    "history2=autoencoder2.fit(X, X, epochs=100, shuffle=True,validation_split=0.1)"
   ]
  },
  {
   "cell_type": "code",
   "execution_count": 87,
   "metadata": {},
   "outputs": [
    {
     "data": {
      "image/png": "[encoded data removed]",
      "text/plain": [
       "<Figure size 432x288 with 1 Axes>"
      ]
     },
     "metadata": {},
     "output_type": "display_data"
    }
   ],
   "source": [
    "#plot our loss \n",
    "plt.plot(history2.history['loss'])\n",
    "plt.plot(history2.history['val_loss'])\n",
    "plt.title('model train vs validation loss')\n",
    "plt.ylabel('loss')\n",
    "plt.xlabel('epoch')\n",
    "plt.legend(['train', 'validation'], loc='upper right')\n",
    "plt.show()\n"
   ]
  },
  {
   "cell_type": "code",
   "execution_count": 88,
   "metadata": {},
   "outputs": [
    {
     "data": {
      "image/png": "[encoded data removed]",
      "text/plain": [
       "<Figure size 432x288 with 1 Axes>"
      ]
     },
     "metadata": {},
     "output_type": "display_data"
    }
   ],
   "source": [
    "reconstructed2 = autoencoder2.predict(X)\n",
    "plot3clusters(reconstructed2[:,:2], 'Non-Linear relu-based AE', 'AE')"
   ]
  },
  {
   "cell_type": "code",
   "execution_count": 89,
   "metadata": {},
   "outputs": [
    {
     "data": {
      "text/plain": [
       "[array([[ 0.38791904, -1.059211  ],\n",
       "        [ 0.85073036, -0.12601116],\n",
       "        [ 0.02974404, -0.4365695 ],\n",
       "        [-0.13836457, -0.3070362 ]], dtype=float32),\n",
       " array([0.04183929, 0.05175896], dtype=float32),\n",
       " array([[ 0.374049  ,  0.71311605,  0.04213218, -0.66960245],\n",
       "        [-0.4749001 ,  0.07608408, -0.3605084 , -0.5306856 ]],\n",
       "       dtype=float32),\n",
       " array([-0.01236913,  0.24802071,  0.4334086 , -0.10031227], dtype=float32)]"
      ]
     },
     "execution_count": 89,
     "metadata": {},
     "output_type": "execute_result"
    }
   ],
   "source": [
    "autoencoder2.get_weights()"
   ]
  },
  {
   "cell_type": "code",
   "execution_count": null,
   "metadata": {},
   "outputs": [],
   "source": []
  }
 ],
 "metadata": {
  "kernelspec": {
   "display_name": "Python 3",
   "language": "python",
   "name": "python3"
  },
  "language_info": {
   "codemirror_mode": {
    "name": "ipython",
    "version": 3
   },
   "file_extension": ".py",
   "mimetype": "text/x-python",
   "name": "python",
   "nbconvert_exporter": "python",
   "pygments_lexer": "ipython3",
   "version": "3.6.4"
  }
 },
 "nbformat": 4,
 "nbformat_minor": 4
}
